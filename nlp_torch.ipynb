{
 "cells": [
  {
   "cell_type": "code",
   "execution_count": 1,
   "metadata": {
    "colab": {
     "base_uri": "https://localhost:8080/",
     "height": 34
    },
    "colab_type": "code",
    "id": "-GA2Z4Y4v1dX",
    "outputId": "c14792ba-95a9-4168-dfc0-7dd3a207d013"
   },
   "outputs": [
    {
     "name": "stdout",
     "output_type": "stream",
     "text": [
      "Drive already mounted at /content/gdrive; to attempt to forcibly remount, call drive.mount(\"/content/gdrive\", force_remount=True).\n"
     ]
    }
   ],
   "source": [
    "import pandas as pd\n",
    "import numpy as np\n",
    "import matplotlib.pyplot as plt\n",
    "\n",
    "from torchtext.data import Field\n",
    "from torchtext.data import TabularDataset\n",
    "from torchtext.data import Iterator, BucketIterator\n",
    "import torch\n",
    "import torch.nn as nn\n",
    "import torch.nn.functional as F\n",
    "import torch.optim as optim\n",
    "from torch.autograd import Variable\n",
    "import tqdm\n",
    "import spacy\n",
    "from spacy.symbols import ORTH\n",
    "\n",
    "from google.colab import drive\n",
    "# Ignore warnings\n",
    "import warnings\n",
    "warnings.filterwarnings(\"ignore\")\n",
    "\n",
    "drive.mount('/content/gdrive')\n",
    "data_dir = 'gdrive/My Drive/Colab Notebooks/data/headlines' "
   ]
  },
  {
   "cell_type": "markdown",
   "metadata": {
    "colab_type": "text",
    "id": "32uy01GoeC0y"
   },
   "source": [
    "I am using Google Colab notebook, so I had to provide access to my files from within the notebook"
   ]
  },
  {
   "cell_type": "markdown",
   "metadata": {
    "colab_type": "text",
    "id": "oVA9BLBuVi_6"
   },
   "source": [
    "# Preprocessing declaration"
   ]
  },
  {
   "cell_type": "markdown",
   "metadata": {
    "colab_type": "text",
    "id": "OGTbbpBATy74"
   },
   "source": [
    "First we need to define a function to be used for tokenization. I will use Spacy library. \n",
    "\n",
    "What is also necessary is to define data fields. It is a way to declare what type of preprocessing should be done on raw text. \n",
    "\n",
    "Note that our labels are ready to be used, we don't need vocabulary mapping for them."
   ]
  },
  {
   "cell_type": "code",
   "execution_count": 0,
   "metadata": {
    "colab": {},
    "colab_type": "code",
    "id": "fxsA7PdWwHRt"
   },
   "outputs": [],
   "source": [
    "tok = spacy.load('en')\n",
    "\n",
    "def spacy_tokenize(x):\n",
    "    return [token.text for token in tok.tokenizer(x)]\n",
    "\n",
    "TEXT = Field(sequential=True, tokenize=spacy_tokenize, lower=True)\n",
    "LABEL = Field(sequential=False, use_vocab=False)"
   ]
  },
  {
   "cell_type": "markdown",
   "metadata": {
    "colab_type": "text",
    "id": "jzTQpsI3Vn53"
   },
   "source": [
    "# Dataset classes"
   ]
  },
  {
   "cell_type": "markdown",
   "metadata": {
    "colab_type": "text",
    "id": "zsw0OEcfZOis"
   },
   "source": [
    "When working with PyTorch we always need to declare our dataset classes. In this case it is appropriate to use tabular dataset from torchtext package. Each headline and corresponding class are together wrapped in Example object."
   ]
  },
  {
   "cell_type": "code",
   "execution_count": 0,
   "metadata": {
    "colab": {},
    "colab_type": "code",
    "id": "2CuKXsZTzy8Q"
   },
   "outputs": [],
   "source": [
    "datafields = [(\"headline\", TEXT), (\"is_sarcastic\", LABEL)]\n",
    "\n",
    "train_dataset, validation_dataset = TabularDataset.splits(path=data_dir, train='train.csv', validation=\"val.csv\",\n",
    "                                          format='csv', skip_header=True, fields=datafields)\n",
    "\n",
    "test_dataset = TabularDataset(path=data_dir+\"/test.csv\", format='csv', skip_header=True, fields=datafields)"
   ]
  },
  {
   "cell_type": "markdown",
   "metadata": {
    "colab_type": "text",
    "id": "FKgC11Z3e0DS"
   },
   "source": [
    "We can verify if the rows are represented correctly."
   ]
  },
  {
   "cell_type": "code",
   "execution_count": 4,
   "metadata": {
    "colab": {
     "base_uri": "https://localhost:8080/",
     "height": 34
    },
    "colab_type": "code",
    "id": "kPbfK-B21Ee6",
    "outputId": "01ec5f4f-cd91-433f-ea56-e6e754c7416e"
   },
   "outputs": [
    {
     "data": {
      "text/plain": [
       "<torchtext.data.example.Example at 0x7fe3e2c9aa58>"
      ]
     },
     "execution_count": 4,
     "metadata": {
      "tags": []
     },
     "output_type": "execute_result"
    }
   ],
   "source": [
    "train_dataset[0]"
   ]
  },
  {
   "cell_type": "code",
   "execution_count": 5,
   "metadata": {
    "colab": {
     "base_uri": "https://localhost:8080/",
     "height": 34
    },
    "colab_type": "code",
    "id": "RMkArw7zVNA2",
    "outputId": "0c7bf277-9e24-44af-d574-90ec0a389ee8"
   },
   "outputs": [
    {
     "data": {
      "text/plain": [
       "dict_keys(['headline', 'is_sarcastic'])"
      ]
     },
     "execution_count": 5,
     "metadata": {
      "tags": []
     },
     "output_type": "execute_result"
    }
   ],
   "source": [
    "train_dataset[0].__dict__.keys()"
   ]
  },
  {
   "cell_type": "code",
   "execution_count": 6,
   "metadata": {
    "colab": {
     "base_uri": "https://localhost:8080/",
     "height": 34
    },
    "colab_type": "code",
    "id": "H79qt78CVdH_",
    "outputId": "2be20f10-917e-4cdd-c8f5-f76d6c4750fa"
   },
   "outputs": [
    {
     "data": {
      "text/plain": [
       "['woman', 'has', 'no', 'business']"
      ]
     },
     "execution_count": 6,
     "metadata": {
      "tags": []
     },
     "output_type": "execute_result"
    }
   ],
   "source": [
    "train_dataset[0].headline[:4]"
   ]
  },
  {
   "cell_type": "markdown",
   "metadata": {
    "colab_type": "text",
    "id": "EKydulg5VudG"
   },
   "source": [
    "When working with text data and neural netoworks, we need to build a vocabulary. that is mapping from words to their corresponding integer ids.\n",
    "\n",
    "Training dataset is used for that purpose. For my model, I will use GloVe 100-dimensional word embeddings."
   ]
  },
  {
   "cell_type": "code",
   "execution_count": 0,
   "metadata": {
    "colab": {},
    "colab_type": "code",
    "id": "OSecIUnlVp3Y"
   },
   "outputs": [],
   "source": [
    "TEXT.build_vocab(train_dataset, vectors=\"glove.6B.100d\")"
   ]
  },
  {
   "cell_type": "markdown",
   "metadata": {
    "colab_type": "text",
    "id": "xa0Pse8AWBBO"
   },
   "source": [
    "For text data, PyTorch uses the convention of iterators, that enable us to iterate over the datasets.\n",
    "\n",
    "In each iteration over the dataset we get a batch of headlines and their labels."
   ]
  },
  {
   "cell_type": "code",
   "execution_count": 0,
   "metadata": {
    "colab": {},
    "colab_type": "code",
    "id": "qAsV3ZhhZMiZ"
   },
   "outputs": [],
   "source": [
    "device = torch.device(\"cuda:0\" if torch.cuda.is_available() else \"cpu\")\n",
    "\n",
    "train_iterator, val_iterator = BucketIterator.splits((train_dataset, validation_dataset), batch_sizes=(64, 64), device=device,\n",
    "                                                     sort_key=lambda x: len(x.headline), sort_within_batch=False, repeat=False)\n",
    "\n",
    "test_iterator = Iterator(test_dataset, batch_size=64, device=device, sort=False, sort_within_batch=False, repeat=False)"
   ]
  },
  {
   "cell_type": "markdown",
   "metadata": {
    "colab_type": "text",
    "id": "HQ0NWUpSzYCT"
   },
   "source": [
    "We can see that each batch consists of 64 examples. The size of headlines tensor is determined by length of the longest sentence in the batch."
   ]
  },
  {
   "cell_type": "code",
   "execution_count": 9,
   "metadata": {
    "colab": {
     "base_uri": "https://localhost:8080/",
     "height": 85
    },
    "colab_type": "code",
    "id": "kRu5VHEJqHZa",
    "outputId": "4089b5c9-0e93-4320-ffa0-44dd3ef8c36b"
   },
   "outputs": [
    {
     "data": {
      "text/plain": [
       "\n",
       "[torchtext.data.batch.Batch of size 64]\n",
       "\t[.headline]:[torch.cuda.LongTensor of size 17x64 (GPU 0)]\n",
       "\t[.is_sarcastic]:[torch.cuda.LongTensor of size 64 (GPU 0)]"
      ]
     },
     "execution_count": 9,
     "metadata": {
      "tags": []
     },
     "output_type": "execute_result"
    }
   ],
   "source": [
    "batch = next(train_iterator.__iter__()); batch"
   ]
  },
  {
   "cell_type": "code",
   "execution_count": 10,
   "metadata": {
    "colab": {
     "base_uri": "https://localhost:8080/",
     "height": 34
    },
    "colab_type": "code",
    "id": "MMVObpMAqUOv",
    "outputId": "b3d20b9f-4459-4dba-df73-f181e77007b4"
   },
   "outputs": [
    {
     "data": {
      "text/plain": [
       "dict_keys(['batch_size', 'dataset', 'fields', 'input_fields', 'target_fields', 'headline', 'is_sarcastic'])"
      ]
     },
     "execution_count": 10,
     "metadata": {
      "tags": []
     },
     "output_type": "execute_result"
    }
   ],
   "source": [
    "batch.__dict__.keys()"
   ]
  },
  {
   "cell_type": "markdown",
   "metadata": {
    "colab_type": "text",
    "id": "N79BHyuXWd2n"
   },
   "source": [
    "For conveniance, we can define a wrapper for each batch: while iterating over a dataset we will get a touple (headline, label)."
   ]
  },
  {
   "cell_type": "code",
   "execution_count": 0,
   "metadata": {
    "colab": {},
    "colab_type": "code",
    "id": "oP3pGuYGa_ln"
   },
   "outputs": [],
   "source": [
    "class BatchWrapper:\n",
    "      def __init__(self, dl, x_var, y_vars):\n",
    "            self.dl, self.x_var, self.y_vars = dl, x_var, y_vars\n",
    "\n",
    "      def __iter__(self):\n",
    "        for batch in self.dl:\n",
    "                  x = getattr(batch, self.x_var)\n",
    "\n",
    "                  if self.y_vars is not None:\n",
    "                        y = torch.cat([getattr(batch, feat).unsqueeze(1) for feat in self.y_vars], dim=1).float()\n",
    "                  else:\n",
    "                        y = torch.zeros((1))\n",
    "\n",
    "                  yield (x, y)\n",
    "\n",
    "      def __len__(self):\n",
    "            return len(self.dl)\n"
   ]
  },
  {
   "cell_type": "code",
   "execution_count": 0,
   "metadata": {
    "colab": {},
    "colab_type": "code",
    "id": "dv8L0QLGsp2B"
   },
   "outputs": [],
   "source": [
    "train_dataloader = BatchWrapper(train_iterator, \"headline\", [\"is_sarcastic\"])\n",
    "valid_dataloader = BatchWrapper(val_iterator, \"headline\", [\"is_sarcastic\"])\n",
    "test_dataloader = BatchWrapper(test_iterator, \"headline\", [\"is_sarcastic\"])"
   ]
  },
  {
   "cell_type": "markdown",
   "metadata": {
    "colab_type": "text",
    "id": "zn5kAJfRXI-v"
   },
   "source": [
    "For this task, I'll use a network that embedds the headline using embedding layer first, then the vectors are passed through LSTM and hidden layer, and then output layer. In order to get class probabilty I am using sigmoid function and return the output.\n",
    "\n",
    "What I mean by embedding layer? It is a special layer that provides a lookup for a word in embeddings space. It's a theoretical, multidimensional space, in which similar words appear close to each other. Such a representation is able to encode a lot of information about the language, it's semantics and structure. They are build on large portions of text, called corpuses - like a whole Wikipedia! I am using GloVe embeddings here."
   ]
  },
  {
   "cell_type": "code",
   "execution_count": 0,
   "metadata": {
    "colab": {},
    "colab_type": "code",
    "id": "xOTo2YoWc4lg"
   },
   "outputs": [],
   "source": [
    "class SimpleLSTM(nn.Module):\n",
    "    def __init__(self, hidden_dim, emb_dim=100, recurrent_dropout=0.1):\n",
    "      \n",
    "        super().__init__()\n",
    "        self.embedding = nn.Embedding(len(TEXT.vocab), emb_dim)\n",
    "        self.encoder = nn.LSTM(emb_dim, hidden_dim, num_layers=1, dropout=recurrent_dropout)\n",
    "\n",
    "        self.predictor = nn.Linear(hidden_dim, 1)\n",
    "        self.sigmoid = nn.Sigmoid()\n",
    "    \n",
    "    def forward(self, seq):\n",
    "        hdn, _ = self.encoder(self.embedding(seq))\n",
    "        feature = hdn[-1, :, :]\n",
    "\n",
    "        preds = self.predictor(feature).squeeze()\n",
    "        preds = self.sigmoid(preds)\n",
    "        return preds"
   ]
  },
  {
   "cell_type": "code",
   "execution_count": 14,
   "metadata": {
    "colab": {
     "base_uri": "https://localhost:8080/",
     "height": 136
    },
    "colab_type": "code",
    "id": "ViAyxDaAfIEF",
    "outputId": "0bab6ee2-99b8-4d22-a91d-30472ebdb4ca"
   },
   "outputs": [
    {
     "data": {
      "text/plain": [
       "SimpleLSTM(\n",
       "  (embedding): Embedding(19723, 100)\n",
       "  (encoder): LSTM(100, 500, dropout=0.2)\n",
       "  (predictor): Linear(in_features=500, out_features=1, bias=True)\n",
       "  (sigmoid): Sigmoid()\n",
       "  (relu): ReLU(inplace=True)\n",
       ")"
      ]
     },
     "execution_count": 14,
     "metadata": {
      "tags": []
     },
     "output_type": "execute_result"
    }
   ],
   "source": [
    "model = SimpleLSTM(hidden_dim=500, recurrent_dropout=0.2)\n",
    "\n",
    "weight_matrix = TEXT.vocab.vectors\n",
    "model.embedding.weight.data.copy_(weight_matrix)\n",
    "model.cuda()\n",
    "model"
   ]
  },
  {
   "cell_type": "markdown",
   "metadata": {
    "colab_type": "text",
    "id": "oy_Ccw5pfkun"
   },
   "source": [
    "We are set up now! Time to write training loop, decide on training parameters like optimizer, learning rate and number of epochs. Depending on the task we are working on, appropriate loss function must be used. In case of binary classification, we can stick to Binary Cross Entropy."
   ]
  },
  {
   "cell_type": "code",
   "execution_count": 15,
   "metadata": {
    "colab": {
     "base_uri": "https://localhost:8080/",
     "height": 1000
    },
    "colab_type": "code",
    "id": "4IwbHZ_pcUb_",
    "outputId": "6a3de0be-86f3-42f8-d12f-98dc50d5fae3"
   },
   "outputs": [
    {
     "name": "stderr",
     "output_type": "stream",
     "text": [
      "100%|██████████| 233/233 [00:03<00:00, 62.09it/s]\n",
      "  2%|▏         | 4/233 [00:00<00:06, 36.60it/s]"
     ]
    },
    {
     "name": "stdout",
     "output_type": "stream",
     "text": [
      "\n",
      " Epoch: 1, Training loss: 0.2304, Validation loss: 0.127\n"
     ]
    },
    {
     "name": "stderr",
     "output_type": "stream",
     "text": [
      "100%|██████████| 233/233 [00:03<00:00, 62.78it/s]\n",
      "  2%|▏         | 5/233 [00:00<00:04, 49.59it/s]"
     ]
    },
    {
     "name": "stdout",
     "output_type": "stream",
     "text": [
      "\n",
      " Epoch: 2, Training loss: 0.2205, Validation loss: 0.1345\n"
     ]
    },
    {
     "name": "stderr",
     "output_type": "stream",
     "text": [
      "100%|██████████| 233/233 [00:03<00:00, 63.17it/s]\n",
      "  2%|▏         | 5/233 [00:00<00:04, 46.36it/s]"
     ]
    },
    {
     "name": "stdout",
     "output_type": "stream",
     "text": [
      "\n",
      " Epoch: 3, Training loss: 0.1989, Validation loss: 0.122\n"
     ]
    },
    {
     "name": "stderr",
     "output_type": "stream",
     "text": [
      "100%|██████████| 233/233 [00:03<00:00, 62.75it/s]\n",
      "  2%|▏         | 5/233 [00:00<00:04, 49.56it/s]"
     ]
    },
    {
     "name": "stdout",
     "output_type": "stream",
     "text": [
      "\n",
      " Epoch: 4, Training loss: 0.1717, Validation loss: 0.122\n"
     ]
    },
    {
     "name": "stderr",
     "output_type": "stream",
     "text": [
      "100%|██████████| 233/233 [00:03<00:00, 62.46it/s]\n",
      "  2%|▏         | 5/233 [00:00<00:05, 44.78it/s]"
     ]
    },
    {
     "name": "stdout",
     "output_type": "stream",
     "text": [
      "\n",
      " Epoch: 5, Training loss: 0.1633, Validation loss: 0.1195\n"
     ]
    },
    {
     "name": "stderr",
     "output_type": "stream",
     "text": [
      "100%|██████████| 233/233 [00:03<00:00, 62.58it/s]\n",
      "  3%|▎         | 6/233 [00:00<00:04, 52.54it/s]"
     ]
    },
    {
     "name": "stdout",
     "output_type": "stream",
     "text": [
      "\n",
      " Epoch: 6, Training loss: 0.1581, Validation loss: 0.1171\n"
     ]
    },
    {
     "name": "stderr",
     "output_type": "stream",
     "text": [
      "100%|██████████| 233/233 [00:03<00:00, 62.83it/s]\n",
      "  2%|▏         | 5/233 [00:00<00:04, 49.65it/s]"
     ]
    },
    {
     "name": "stdout",
     "output_type": "stream",
     "text": [
      "\n",
      " Epoch: 7, Training loss: 0.1526, Validation loss: 0.1167\n"
     ]
    },
    {
     "name": "stderr",
     "output_type": "stream",
     "text": [
      "100%|██████████| 233/233 [00:03<00:00, 63.28it/s]\n",
      "  2%|▏         | 5/233 [00:00<00:04, 49.03it/s]"
     ]
    },
    {
     "name": "stdout",
     "output_type": "stream",
     "text": [
      "\n",
      " Epoch: 8, Training loss: 0.1483, Validation loss: 0.1176\n"
     ]
    },
    {
     "name": "stderr",
     "output_type": "stream",
     "text": [
      "100%|██████████| 233/233 [00:03<00:00, 62.51it/s]\n",
      "  2%|▏         | 5/233 [00:00<00:04, 49.74it/s]"
     ]
    },
    {
     "name": "stdout",
     "output_type": "stream",
     "text": [
      "\n",
      " Epoch: 9, Training loss: 0.1457, Validation loss: 0.1144\n"
     ]
    },
    {
     "name": "stderr",
     "output_type": "stream",
     "text": [
      "100%|██████████| 233/233 [00:03<00:00, 62.98it/s]\n",
      "  3%|▎         | 6/233 [00:00<00:04, 51.56it/s]"
     ]
    },
    {
     "name": "stdout",
     "output_type": "stream",
     "text": [
      "\n",
      " Epoch: 10, Training loss: 0.1428, Validation loss: 0.1124\n"
     ]
    },
    {
     "name": "stderr",
     "output_type": "stream",
     "text": [
      "100%|██████████| 233/233 [00:03<00:00, 63.32it/s]\n",
      "  3%|▎         | 6/233 [00:00<00:04, 53.26it/s]"
     ]
    },
    {
     "name": "stdout",
     "output_type": "stream",
     "text": [
      "\n",
      " Epoch: 11, Training loss: 0.1392, Validation loss: 0.1132\n"
     ]
    },
    {
     "name": "stderr",
     "output_type": "stream",
     "text": [
      "100%|██████████| 233/233 [00:03<00:00, 62.88it/s]\n",
      "  3%|▎         | 6/233 [00:00<00:04, 48.41it/s]"
     ]
    },
    {
     "name": "stdout",
     "output_type": "stream",
     "text": [
      "\n",
      " Epoch: 12, Training loss: 0.1346, Validation loss: 0.1141\n"
     ]
    },
    {
     "name": "stderr",
     "output_type": "stream",
     "text": [
      "100%|██████████| 233/233 [00:03<00:00, 62.92it/s]\n",
      "  2%|▏         | 4/233 [00:00<00:05, 38.53it/s]"
     ]
    },
    {
     "name": "stdout",
     "output_type": "stream",
     "text": [
      "\n",
      " Epoch: 13, Training loss: 0.1339, Validation loss: 0.1092\n"
     ]
    },
    {
     "name": "stderr",
     "output_type": "stream",
     "text": [
      "100%|██████████| 233/233 [00:03<00:00, 62.84it/s]\n",
      "  2%|▏         | 4/233 [00:00<00:05, 39.92it/s]"
     ]
    },
    {
     "name": "stdout",
     "output_type": "stream",
     "text": [
      "\n",
      " Epoch: 14, Training loss: 0.1308, Validation loss: 0.1125\n"
     ]
    },
    {
     "name": "stderr",
     "output_type": "stream",
     "text": [
      "100%|██████████| 233/233 [00:03<00:00, 62.50it/s]\n",
      "  3%|▎         | 6/233 [00:00<00:04, 53.29it/s]"
     ]
    },
    {
     "name": "stdout",
     "output_type": "stream",
     "text": [
      "\n",
      " Epoch: 15, Training loss: 0.1291, Validation loss: 0.1122\n"
     ]
    },
    {
     "name": "stderr",
     "output_type": "stream",
     "text": [
      "100%|██████████| 233/233 [00:03<00:00, 62.93it/s]\n",
      "  2%|▏         | 5/233 [00:00<00:04, 45.77it/s]"
     ]
    },
    {
     "name": "stdout",
     "output_type": "stream",
     "text": [
      "\n",
      " Epoch: 16, Training loss: 0.1249, Validation loss: 0.1055\n"
     ]
    },
    {
     "name": "stderr",
     "output_type": "stream",
     "text": [
      "100%|██████████| 233/233 [00:03<00:00, 62.72it/s]\n",
      "  3%|▎         | 6/233 [00:00<00:04, 53.26it/s]"
     ]
    },
    {
     "name": "stdout",
     "output_type": "stream",
     "text": [
      "\n",
      " Epoch: 17, Training loss: 0.1198, Validation loss: 0.1104\n"
     ]
    },
    {
     "name": "stderr",
     "output_type": "stream",
     "text": [
      "100%|██████████| 233/233 [00:03<00:00, 63.17it/s]\n",
      "  2%|▏         | 5/233 [00:00<00:04, 46.19it/s]"
     ]
    },
    {
     "name": "stdout",
     "output_type": "stream",
     "text": [
      "\n",
      " Epoch: 18, Training loss: 0.1239, Validation loss: 0.1053\n"
     ]
    },
    {
     "name": "stderr",
     "output_type": "stream",
     "text": [
      "100%|██████████| 233/233 [00:03<00:00, 62.74it/s]\n",
      "  2%|▏         | 5/233 [00:00<00:05, 45.07it/s]"
     ]
    },
    {
     "name": "stdout",
     "output_type": "stream",
     "text": [
      "\n",
      " Epoch: 19, Training loss: 0.1179, Validation loss: 0.1052\n"
     ]
    },
    {
     "name": "stderr",
     "output_type": "stream",
     "text": [
      "100%|██████████| 233/233 [00:03<00:00, 63.11it/s]\n",
      "  3%|▎         | 6/233 [00:00<00:04, 53.91it/s]"
     ]
    },
    {
     "name": "stdout",
     "output_type": "stream",
     "text": [
      "\n",
      " Epoch: 20, Training loss: 0.1127, Validation loss: 0.0963\n"
     ]
    },
    {
     "name": "stderr",
     "output_type": "stream",
     "text": [
      "100%|██████████| 233/233 [00:03<00:00, 63.09it/s]\n",
      "  2%|▏         | 5/233 [00:00<00:04, 47.50it/s]"
     ]
    },
    {
     "name": "stdout",
     "output_type": "stream",
     "text": [
      "\n",
      " Epoch: 21, Training loss: 0.1123, Validation loss: 0.0958\n"
     ]
    },
    {
     "name": "stderr",
     "output_type": "stream",
     "text": [
      "100%|██████████| 233/233 [00:03<00:00, 63.48it/s]\n",
      "  2%|▏         | 5/233 [00:00<00:04, 47.79it/s]"
     ]
    },
    {
     "name": "stdout",
     "output_type": "stream",
     "text": [
      "\n",
      " Epoch: 22, Training loss: 0.1071, Validation loss: 0.0905\n"
     ]
    },
    {
     "name": "stderr",
     "output_type": "stream",
     "text": [
      "100%|██████████| 233/233 [00:03<00:00, 62.72it/s]\n",
      "  2%|▏         | 5/233 [00:00<00:04, 49.58it/s]"
     ]
    },
    {
     "name": "stdout",
     "output_type": "stream",
     "text": [
      "\n",
      " Epoch: 23, Training loss: 0.1062, Validation loss: 0.0902\n"
     ]
    },
    {
     "name": "stderr",
     "output_type": "stream",
     "text": [
      "100%|██████████| 233/233 [00:03<00:00, 63.08it/s]\n",
      "  3%|▎         | 6/233 [00:00<00:04, 55.42it/s]"
     ]
    },
    {
     "name": "stdout",
     "output_type": "stream",
     "text": [
      "\n",
      " Epoch: 24, Training loss: 0.1042, Validation loss: 0.0897\n"
     ]
    },
    {
     "name": "stderr",
     "output_type": "stream",
     "text": [
      "100%|██████████| 233/233 [00:03<00:00, 63.30it/s]\n",
      "  2%|▏         | 5/233 [00:00<00:04, 49.27it/s]"
     ]
    },
    {
     "name": "stdout",
     "output_type": "stream",
     "text": [
      "\n",
      " Epoch: 25, Training loss: 0.1023, Validation loss: 0.0933\n"
     ]
    },
    {
     "name": "stderr",
     "output_type": "stream",
     "text": [
      "100%|██████████| 233/233 [00:03<00:00, 63.09it/s]\n",
      "  3%|▎         | 6/233 [00:00<00:04, 54.75it/s]"
     ]
    },
    {
     "name": "stdout",
     "output_type": "stream",
     "text": [
      "\n",
      " Epoch: 26, Training loss: 0.1014, Validation loss: 0.089\n"
     ]
    },
    {
     "name": "stderr",
     "output_type": "stream",
     "text": [
      "100%|██████████| 233/233 [00:03<00:00, 63.12it/s]\n",
      "  3%|▎         | 6/233 [00:00<00:04, 54.26it/s]"
     ]
    },
    {
     "name": "stdout",
     "output_type": "stream",
     "text": [
      "\n",
      " Epoch: 27, Training loss: 0.0981, Validation loss: 0.0911\n"
     ]
    },
    {
     "name": "stderr",
     "output_type": "stream",
     "text": [
      "100%|██████████| 233/233 [00:03<00:00, 62.88it/s]\n",
      "  2%|▏         | 5/233 [00:00<00:04, 47.23it/s]"
     ]
    },
    {
     "name": "stdout",
     "output_type": "stream",
     "text": [
      "\n",
      " Epoch: 28, Training loss: 0.0967, Validation loss: 0.0878\n"
     ]
    },
    {
     "name": "stderr",
     "output_type": "stream",
     "text": [
      "100%|██████████| 233/233 [00:03<00:00, 62.95it/s]\n",
      "  3%|▎         | 6/233 [00:00<00:04, 52.51it/s]"
     ]
    },
    {
     "name": "stdout",
     "output_type": "stream",
     "text": [
      "\n",
      " Epoch: 29, Training loss: 0.0937, Validation loss: 0.0839\n"
     ]
    },
    {
     "name": "stderr",
     "output_type": "stream",
     "text": [
      "100%|██████████| 233/233 [00:03<00:00, 62.34it/s]\n",
      "  2%|▏         | 5/233 [00:00<00:04, 47.19it/s]"
     ]
    },
    {
     "name": "stdout",
     "output_type": "stream",
     "text": [
      "\n",
      " Epoch: 30, Training loss: 0.0945, Validation loss: 0.081\n"
     ]
    },
    {
     "name": "stderr",
     "output_type": "stream",
     "text": [
      "100%|██████████| 233/233 [00:03<00:00, 62.63it/s]\n",
      "  2%|▏         | 5/233 [00:00<00:04, 48.83it/s]"
     ]
    },
    {
     "name": "stdout",
     "output_type": "stream",
     "text": [
      "\n",
      " Epoch: 31, Training loss: 0.0933, Validation loss: 0.0868\n"
     ]
    },
    {
     "name": "stderr",
     "output_type": "stream",
     "text": [
      "100%|██████████| 233/233 [00:03<00:00, 63.54it/s]\n",
      "  3%|▎         | 6/233 [00:00<00:04, 52.72it/s]"
     ]
    },
    {
     "name": "stdout",
     "output_type": "stream",
     "text": [
      "\n",
      " Epoch: 32, Training loss: 0.0867, Validation loss: 0.0892\n"
     ]
    },
    {
     "name": "stderr",
     "output_type": "stream",
     "text": [
      "100%|██████████| 233/233 [00:03<00:00, 63.03it/s]\n",
      "  2%|▏         | 5/233 [00:00<00:04, 49.48it/s]"
     ]
    },
    {
     "name": "stdout",
     "output_type": "stream",
     "text": [
      "\n",
      " Epoch: 33, Training loss: 0.0877, Validation loss: 0.0868\n"
     ]
    },
    {
     "name": "stderr",
     "output_type": "stream",
     "text": [
      "100%|██████████| 233/233 [00:03<00:00, 63.13it/s]\n",
      "  2%|▏         | 5/233 [00:00<00:04, 48.96it/s]"
     ]
    },
    {
     "name": "stdout",
     "output_type": "stream",
     "text": [
      "\n",
      " Epoch: 34, Training loss: 0.0873, Validation loss: 0.0789\n"
     ]
    },
    {
     "name": "stderr",
     "output_type": "stream",
     "text": [
      "100%|██████████| 233/233 [00:03<00:00, 62.80it/s]\n",
      "  2%|▏         | 5/233 [00:00<00:04, 49.35it/s]"
     ]
    },
    {
     "name": "stdout",
     "output_type": "stream",
     "text": [
      "\n",
      " Epoch: 35, Training loss: 0.0839, Validation loss: 0.0802\n"
     ]
    },
    {
     "name": "stderr",
     "output_type": "stream",
     "text": [
      "100%|██████████| 233/233 [00:03<00:00, 62.64it/s]\n",
      "  2%|▏         | 5/233 [00:00<00:04, 48.52it/s]"
     ]
    },
    {
     "name": "stdout",
     "output_type": "stream",
     "text": [
      "\n",
      " Epoch: 36, Training loss: 0.0824, Validation loss: 0.0776\n"
     ]
    },
    {
     "name": "stderr",
     "output_type": "stream",
     "text": [
      "100%|██████████| 233/233 [00:03<00:00, 62.88it/s]\n",
      "  2%|▏         | 5/233 [00:00<00:04, 47.37it/s]"
     ]
    },
    {
     "name": "stdout",
     "output_type": "stream",
     "text": [
      "\n",
      " Epoch: 37, Training loss: 0.0823, Validation loss: 0.0927\n"
     ]
    },
    {
     "name": "stderr",
     "output_type": "stream",
     "text": [
      "100%|██████████| 233/233 [00:03<00:00, 63.15it/s]\n",
      "  2%|▏         | 5/233 [00:00<00:04, 47.43it/s]"
     ]
    },
    {
     "name": "stdout",
     "output_type": "stream",
     "text": [
      "\n",
      " Epoch: 38, Training loss: 0.0803, Validation loss: 0.0832\n"
     ]
    },
    {
     "name": "stderr",
     "output_type": "stream",
     "text": [
      "100%|██████████| 233/233 [00:03<00:00, 62.93it/s]\n",
      "  2%|▏         | 5/233 [00:00<00:04, 49.78it/s]"
     ]
    },
    {
     "name": "stdout",
     "output_type": "stream",
     "text": [
      "\n",
      " Epoch: 39, Training loss: 0.0783, Validation loss: 0.0852\n"
     ]
    },
    {
     "name": "stderr",
     "output_type": "stream",
     "text": [
      "100%|██████████| 233/233 [00:03<00:00, 62.34it/s]\n",
      "  2%|▏         | 5/233 [00:00<00:04, 46.72it/s]"
     ]
    },
    {
     "name": "stdout",
     "output_type": "stream",
     "text": [
      "\n",
      " Epoch: 40, Training loss: 0.0771, Validation loss: 0.0853\n"
     ]
    },
    {
     "name": "stderr",
     "output_type": "stream",
     "text": [
      "100%|██████████| 233/233 [00:03<00:00, 63.16it/s]\n",
      "  2%|▏         | 5/233 [00:00<00:04, 47.98it/s]"
     ]
    },
    {
     "name": "stdout",
     "output_type": "stream",
     "text": [
      "\n",
      " Epoch: 41, Training loss: 0.0744, Validation loss: 0.0741\n"
     ]
    },
    {
     "name": "stderr",
     "output_type": "stream",
     "text": [
      "100%|██████████| 233/233 [00:03<00:00, 62.84it/s]\n",
      "  2%|▏         | 5/233 [00:00<00:04, 50.00it/s]"
     ]
    },
    {
     "name": "stdout",
     "output_type": "stream",
     "text": [
      "\n",
      " Epoch: 42, Training loss: 0.0747, Validation loss: 0.0743\n"
     ]
    },
    {
     "name": "stderr",
     "output_type": "stream",
     "text": [
      "100%|██████████| 233/233 [00:03<00:00, 62.83it/s]\n",
      "  2%|▏         | 5/233 [00:00<00:04, 46.26it/s]"
     ]
    },
    {
     "name": "stdout",
     "output_type": "stream",
     "text": [
      "\n",
      " Epoch: 43, Training loss: 0.0726, Validation loss: 0.0806\n"
     ]
    },
    {
     "name": "stderr",
     "output_type": "stream",
     "text": [
      "100%|██████████| 233/233 [00:03<00:00, 62.43it/s]\n",
      "  2%|▏         | 4/233 [00:00<00:05, 38.88it/s]"
     ]
    },
    {
     "name": "stdout",
     "output_type": "stream",
     "text": [
      "\n",
      " Epoch: 44, Training loss: 0.0703, Validation loss: 0.088\n"
     ]
    },
    {
     "name": "stderr",
     "output_type": "stream",
     "text": [
      "100%|██████████| 233/233 [00:03<00:00, 62.95it/s]\n",
      "  2%|▏         | 5/233 [00:00<00:04, 48.84it/s]"
     ]
    },
    {
     "name": "stdout",
     "output_type": "stream",
     "text": [
      "\n",
      " Epoch: 45, Training loss: 0.0698, Validation loss: 0.0776\n"
     ]
    },
    {
     "name": "stderr",
     "output_type": "stream",
     "text": [
      "100%|██████████| 233/233 [00:03<00:00, 62.59it/s]\n",
      "  3%|▎         | 6/233 [00:00<00:04, 54.64it/s]"
     ]
    },
    {
     "name": "stdout",
     "output_type": "stream",
     "text": [
      "\n",
      " Epoch: 46, Training loss: 0.0666, Validation loss: 0.0736\n"
     ]
    },
    {
     "name": "stderr",
     "output_type": "stream",
     "text": [
      "100%|██████████| 233/233 [00:03<00:00, 62.72it/s]\n",
      "  2%|▏         | 4/233 [00:00<00:05, 39.58it/s]"
     ]
    },
    {
     "name": "stdout",
     "output_type": "stream",
     "text": [
      "\n",
      " Epoch: 47, Training loss: 0.0644, Validation loss: 0.0705\n"
     ]
    },
    {
     "name": "stderr",
     "output_type": "stream",
     "text": [
      "100%|██████████| 233/233 [00:03<00:00, 62.84it/s]\n",
      "  3%|▎         | 6/233 [00:00<00:04, 55.34it/s]"
     ]
    },
    {
     "name": "stdout",
     "output_type": "stream",
     "text": [
      "\n",
      " Epoch: 48, Training loss: 0.0645, Validation loss: 0.0733\n"
     ]
    },
    {
     "name": "stderr",
     "output_type": "stream",
     "text": [
      "100%|██████████| 233/233 [00:03<00:00, 62.99it/s]\n",
      "  3%|▎         | 6/233 [00:00<00:04, 51.33it/s]"
     ]
    },
    {
     "name": "stdout",
     "output_type": "stream",
     "text": [
      "\n",
      " Epoch: 49, Training loss: 0.0636, Validation loss: 0.085\n"
     ]
    },
    {
     "name": "stderr",
     "output_type": "stream",
     "text": [
      "100%|██████████| 233/233 [00:03<00:00, 63.19it/s]\n"
     ]
    },
    {
     "name": "stdout",
     "output_type": "stream",
     "text": [
      "\n",
      " Epoch: 50, Training loss: 0.0593, Validation loss: 0.0742\n"
     ]
    }
   ],
   "source": [
    "optimizer = optim.Adam(model.parameters(), lr=2e-5)\n",
    "loss_func = nn.BCELoss()\n",
    "\n",
    "epochs = 50\n",
    "\n",
    "train_epoch_losses = []\n",
    "validation_epoch_losses = []\n",
    "\n",
    "for epoch in range(1, epochs + 1):\n",
    "    running_loss = 0.0\n",
    "    running_corrects = 0\n",
    "    model.train()\n",
    "\n",
    "    for x, y in tqdm.tqdm(train_dataloader):\n",
    "\n",
    "        optimizer.zero_grad()\n",
    "\n",
    "        y_pred = model(x)\n",
    "        loss = loss_func(y_pred, y)\n",
    "        loss.backward()\n",
    "        optimizer.step()\n",
    "\n",
    "        running_loss += loss.item() * x.size(0)\n",
    "\n",
    "    epoch_loss = running_loss / len(train_dataset)\n",
    "    train_epoch_losses.append(epoch_loss)\n",
    "\n",
    "    val_loss = 0.0\n",
    "    model.eval()\n",
    "    with torch.no_grad():\n",
    "      for x, y in valid_dataloader:\n",
    "          y_pred = model(x)\n",
    "          loss = loss_func(y_pred, y)\n",
    "          val_loss += loss.item() * x.size(0)\n",
    "\n",
    "    val_loss /= len(validation_dataset)\n",
    "    validation_epoch_losses.append(val_loss)\n",
    "    print(f'\\n Epoch: {epoch}, Training loss: {round(epoch_loss, 4)}, Validation loss: {round(val_loss, 4)}')\n"
   ]
  },
  {
   "cell_type": "code",
   "execution_count": 16,
   "metadata": {
    "colab": {
     "base_uri": "https://localhost:8080/",
     "height": 265
    },
    "colab_type": "code",
    "id": "wAXBt1S3tUGA",
    "outputId": "c2c61509-2409-4731-876a-d4d0c1cd94d8"
   },
   "outputs": [
    {
     "data": {
      "image/png": "[encoded data removed]",
      "text/plain": [
       "<Figure size 432x288 with 1 Axes>"
      ]
     },
     "metadata": {
      "tags": []
     },
     "output_type": "display_data"
    }
   ],
   "source": [
    "train_plot, = plt.plot(range(len(train_epoch_losses)), train_epoch_losses, label='train loss')\n",
    "val_plot, = plt.plot(range(len(validation_epoch_losses)), validation_epoch_losses, label='validation loss')\n",
    "plt.legend(handles=[train_plot, val_plot])\n",
    "plt.show()"
   ]
  },
  {
   "cell_type": "code",
   "execution_count": 0,
   "metadata": {
    "colab": {},
    "colab_type": "code",
    "id": "hYjJ8T9yCxSM"
   },
   "outputs": [],
   "source": [
    "def inference(test_dataloader, test_dataset, criterion):\n",
    "    test_loss = 0.0\n",
    "    acc = 0.0\n",
    "\n",
    "    for x, y in tqdm.tqdm(test_dataloader):\n",
    "        model.eval()\n",
    "        with torch.no_grad():\n",
    "          output = model(x)\n",
    "          loss = criterion(output, y)\n",
    "          test_loss += loss.item() * x.size(0)\n",
    "\n",
    "          output = output.cpu().data.numpy()\n",
    "          output_binary = np.zeros_like(output, dtype='int')\n",
    "          output_binary[output >= 0.5] = 1\n",
    "              \n",
    "          y = y.cpu().data.numpy().flatten()\n",
    "          acc += len(np.where(output_binary == y)[0])\n",
    "\n",
    "    return test_loss / len(test_dataset), acc / len(test_dataset)"
   ]
  },
  {
   "cell_type": "code",
   "execution_count": 18,
   "metadata": {
    "colab": {
     "base_uri": "https://localhost:8080/",
     "height": 51
    },
    "colab_type": "code",
    "id": "e-EprjK2F9MT",
    "outputId": "50f1954a-eea4-4e55-e0fd-e71362e48432"
   },
   "outputs": [
    {
     "name": "stderr",
     "output_type": "stream",
     "text": [
      "100%|██████████| 125/125 [00:00<00:00, 196.96it/s]"
     ]
    },
    {
     "name": "stdout",
     "output_type": "stream",
     "text": [
      "Testing loss: 0.12399046846334386, testing accuracy: 0.859792006014284\n"
     ]
    },
    {
     "name": "stderr",
     "output_type": "stream",
     "text": [
      "\n"
     ]
    }
   ],
   "source": [
    "test_loss, test_accuracy = inference(test_dataloader, test_dataset, loss_func)\n",
    "print(f'Testing loss: {test_loss}, testing accuracy: {test_accuracy}')"
   ]
  },
  {
   "cell_type": "markdown",
   "metadata": {
    "colab_type": "text",
    "id": "UkD7wYkeT4lu"
   },
   "source": [
    "We can see that our model gives a better accuracy that traditional machine learning models. But it is also crucial to notice that when I've tried to train it for longer or used higher learning rate it started to overfit. It might be the case that there is no enough training data. In this case it might be beneficial to stick to traditional machine learning methods: logistic regression or Naive Bayes. They give similar results for this data. They are fast, easy to train and interprete. What also might be the reason is that GloVe embeddings are not the best for this task."
   ]
  },
  {
   "cell_type": "code",
   "execution_count": 0,
   "metadata": {
    "colab": {},
    "colab_type": "code",
    "id": "IeyDnZIwUqmE"
   },
   "outputs": [],
   "source": []
  }
 ],
 "metadata": {
  "accelerator": "GPU",
  "colab": {
   "collapsed_sections": [],
   "name": "nlp-torch.ipynb",
   "provenance": []
  },
  "kernelspec": {
   "display_name": "Python 3",
   "language": "python",
   "name": "python3"
  },
  "language_info": {
   "codemirror_mode": {
    "name": "ipython",
    "version": 3
   },
   "file_extension": ".py",
   "mimetype": "text/x-python",
   "name": "python",
   "nbconvert_exporter": "python",
   "pygments_lexer": "ipython3",
   "version": "3.7.3"
  }
 },
 "nbformat": 4,
 "nbformat_minor": 1
}

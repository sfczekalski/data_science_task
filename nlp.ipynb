{
 "cells": [
  {
   "cell_type": "code",
   "execution_count": 1,
   "metadata": {},
   "outputs": [
    {
     "name": "stderr",
     "output_type": "stream",
     "text": [
      "/home/sfczekalski/anaconda3/lib/python3.7/site-packages/statsmodels/tools/_testing.py:19: FutureWarning: pandas.util.testing is deprecated. Use the functions in the public API at pandas.testing instead.\n",
      "  import pandas.util.testing as tm\n"
     ]
    }
   ],
   "source": [
    "import pandas as pd\n",
    "import numpy as np\n",
    "import matplotlib.pyplot as plt\n",
    "import seaborn as sns\n",
    "\n",
    "import re\n",
    "import string\n",
    "import nltk\n",
    "from nltk import word_tokenize\n",
    "from nltk.corpus import stopwords as sw\n",
    "from nltk.corpus import wordnet as wn\n",
    "from nltk import WordNetLemmatizer\n",
    "from nltk import pos_tag\n",
    "from nltk.probability import FreqDist\n",
    "from wordcloud import WordCloud\n",
    "\n",
    "from sklearn.base import BaseEstimator, TransformerMixin\n",
    "from sklearn.pipeline import Pipeline\n",
    "from sklearn.linear_model import LogisticRegression\n",
    "from sklearn.metrics import accuracy_score, plot_confusion_matrix\n",
    "from sklearn.feature_extraction.text import TfidfVectorizer, CountVectorizer\n",
    "from sklearn.model_selection import train_test_split, GridSearchCV\n",
    "import xgboost as xgb\n",
    "from sklearn.naive_bayes import MultinomialNB\n",
    "\n",
    "import warnings\n",
    "warnings.filterwarnings(\"ignore\", category=DeprecationWarning)\n",
    "warnings.filterwarnings(\"ignore\", category=FutureWarning)"
   ]
  },
  {
   "cell_type": "markdown",
   "metadata": {},
   "source": [
    "# First look at the data"
   ]
  },
  {
   "cell_type": "code",
   "execution_count": 2,
   "metadata": {},
   "outputs": [
    {
     "data": {
      "text/html": [
       "<div>\n",
       "<style scoped>\n",
       "    .dataframe tbody tr th:only-of-type {\n",
       "        vertical-align: middle;\n",
       "    }\n",
       "\n",
       "    .dataframe tbody tr th {\n",
       "        vertical-align: top;\n",
       "    }\n",
       "\n",
       "    .dataframe thead th {\n",
       "        text-align: right;\n",
       "    }\n",
       "</style>\n",
       "<table border=\"1\" class=\"dataframe\">\n",
       "  <thead>\n",
       "    <tr style=\"text-align: right;\">\n",
       "      <th></th>\n",
       "      <th>headline</th>\n",
       "      <th>is_sarcastic</th>\n",
       "    </tr>\n",
       "  </thead>\n",
       "  <tbody>\n",
       "    <tr>\n",
       "      <th>0</th>\n",
       "      <td>former versace store clerk sues over secret 'b...</td>\n",
       "      <td>0</td>\n",
       "    </tr>\n",
       "    <tr>\n",
       "      <th>1</th>\n",
       "      <td>the 'roseanne' revival catches up to our thorn...</td>\n",
       "      <td>0</td>\n",
       "    </tr>\n",
       "    <tr>\n",
       "      <th>2</th>\n",
       "      <td>mom starting to fear son's web series closest ...</td>\n",
       "      <td>1</td>\n",
       "    </tr>\n",
       "    <tr>\n",
       "      <th>3</th>\n",
       "      <td>boehner just wants wife to listen, not come up...</td>\n",
       "      <td>1</td>\n",
       "    </tr>\n",
       "    <tr>\n",
       "      <th>4</th>\n",
       "      <td>j.k. rowling wishes snape happy birthday in th...</td>\n",
       "      <td>0</td>\n",
       "    </tr>\n",
       "  </tbody>\n",
       "</table>\n",
       "</div>"
      ],
      "text/plain": [
       "                                            headline  is_sarcastic\n",
       "0  former versace store clerk sues over secret 'b...             0\n",
       "1  the 'roseanne' revival catches up to our thorn...             0\n",
       "2  mom starting to fear son's web series closest ...             1\n",
       "3  boehner just wants wife to listen, not come up...             1\n",
       "4  j.k. rowling wishes snape happy birthday in th...             0"
      ]
     },
     "execution_count": 2,
     "metadata": {},
     "output_type": "execute_result"
    }
   ],
   "source": [
    "df = pd.read_json('data/Graduate - HEADLINES dataset (2019-06).json', lines=True)\n",
    "df.head()"
   ]
  },
  {
   "cell_type": "code",
   "execution_count": 3,
   "metadata": {},
   "outputs": [
    {
     "data": {
      "text/plain": [
       "(26709, 2)"
      ]
     },
     "execution_count": 3,
     "metadata": {},
     "output_type": "execute_result"
    }
   ],
   "source": [
    "df.shape"
   ]
  },
  {
   "cell_type": "code",
   "execution_count": 4,
   "metadata": {},
   "outputs": [
    {
     "data": {
      "text/plain": [
       "headline        False\n",
       "is_sarcastic    False\n",
       "dtype: bool"
      ]
     },
     "execution_count": 4,
     "metadata": {},
     "output_type": "execute_result"
    }
   ],
   "source": [
    "df.isna().any()"
   ]
  },
  {
   "cell_type": "code",
   "execution_count": 5,
   "metadata": {},
   "outputs": [
    {
     "data": {
      "text/plain": [
       "headline        object\n",
       "is_sarcastic     int64\n",
       "dtype: object"
      ]
     },
     "execution_count": 5,
     "metadata": {},
     "output_type": "execute_result"
    }
   ],
   "source": [
    "df.dtypes"
   ]
  },
  {
   "cell_type": "code",
   "execution_count": 6,
   "metadata": {},
   "outputs": [],
   "source": [
    "df['headline'] = df['headline'].astype('string')"
   ]
  },
  {
   "cell_type": "markdown",
   "metadata": {},
   "source": [
    "It turns out there is plenty of duplicate rows in our dataset!"
   ]
  },
  {
   "cell_type": "code",
   "execution_count": 7,
   "metadata": {},
   "outputs": [
    {
     "data": {
      "text/html": [
       "<div>\n",
       "<style scoped>\n",
       "    .dataframe tbody tr th:only-of-type {\n",
       "        vertical-align: middle;\n",
       "    }\n",
       "\n",
       "    .dataframe tbody tr th {\n",
       "        vertical-align: top;\n",
       "    }\n",
       "\n",
       "    .dataframe thead th {\n",
       "        text-align: right;\n",
       "    }\n",
       "</style>\n",
       "<table border=\"1\" class=\"dataframe\">\n",
       "  <thead>\n",
       "    <tr style=\"text-align: right;\">\n",
       "      <th></th>\n",
       "      <th>headline</th>\n",
       "      <th>is_sarcastic</th>\n",
       "    </tr>\n",
       "  </thead>\n",
       "  <tbody>\n",
       "    <tr>\n",
       "      <th>182</th>\n",
       "      <td>magic-markered initials fail to deter breakroo...</td>\n",
       "      <td>1</td>\n",
       "    </tr>\n",
       "    <tr>\n",
       "      <th>533</th>\n",
       "      <td>antarctic observational comic running out of i...</td>\n",
       "      <td>1</td>\n",
       "    </tr>\n",
       "    <tr>\n",
       "      <th>1019</th>\n",
       "      <td>the best chance to defeat roy moore may be for...</td>\n",
       "      <td>0</td>\n",
       "    </tr>\n",
       "    <tr>\n",
       "      <th>1091</th>\n",
       "      <td>antarctic observational comic running out of i...</td>\n",
       "      <td>1</td>\n",
       "    </tr>\n",
       "    <tr>\n",
       "      <th>1131</th>\n",
       "      <td>pier 1 issues formal apology for rattan death ...</td>\n",
       "      <td>1</td>\n",
       "    </tr>\n",
       "    <tr>\n",
       "      <th>...</th>\n",
       "      <td>...</td>\n",
       "      <td>...</td>\n",
       "    </tr>\n",
       "    <tr>\n",
       "      <th>26121</th>\n",
       "      <td>'no way to prevent this,' says only nation whe...</td>\n",
       "      <td>1</td>\n",
       "    </tr>\n",
       "    <tr>\n",
       "      <th>26156</th>\n",
       "      <td>area man busts his ass all day, and for what?</td>\n",
       "      <td>1</td>\n",
       "    </tr>\n",
       "    <tr>\n",
       "      <th>26353</th>\n",
       "      <td>kleenex box inadequately covered</td>\n",
       "      <td>1</td>\n",
       "    </tr>\n",
       "    <tr>\n",
       "      <th>26500</th>\n",
       "      <td>candy purchase puts yet more money in raisinet...</td>\n",
       "      <td>1</td>\n",
       "    </tr>\n",
       "    <tr>\n",
       "      <th>26615</th>\n",
       "      <td>the conundrum of the midterms</td>\n",
       "      <td>0</td>\n",
       "    </tr>\n",
       "  </tbody>\n",
       "</table>\n",
       "<p>185 rows × 2 columns</p>\n",
       "</div>"
      ],
      "text/plain": [
       "                                                headline  is_sarcastic\n",
       "182    magic-markered initials fail to deter breakroo...             1\n",
       "533    antarctic observational comic running out of i...             1\n",
       "1019   the best chance to defeat roy moore may be for...             0\n",
       "1091   antarctic observational comic running out of i...             1\n",
       "1131   pier 1 issues formal apology for rattan death ...             1\n",
       "...                                                  ...           ...\n",
       "26121  'no way to prevent this,' says only nation whe...             1\n",
       "26156      area man busts his ass all day, and for what?             1\n",
       "26353                   kleenex box inadequately covered             1\n",
       "26500  candy purchase puts yet more money in raisinet...             1\n",
       "26615                      the conundrum of the midterms             0\n",
       "\n",
       "[185 rows x 2 columns]"
      ]
     },
     "execution_count": 7,
     "metadata": {},
     "output_type": "execute_result"
    }
   ],
   "source": [
    "df.loc[df.duplicated(keep=False)]"
   ]
  },
  {
   "cell_type": "code",
   "execution_count": 8,
   "metadata": {},
   "outputs": [],
   "source": [
    "df = df.drop_duplicates()\n",
    "df = df.reset_index().drop(columns=['index'])"
   ]
  },
  {
   "cell_type": "code",
   "execution_count": 9,
   "metadata": {},
   "outputs": [
    {
     "data": {
      "text/plain": [
       "60.977595669498534"
      ]
     },
     "execution_count": 9,
     "metadata": {},
     "output_type": "execute_result"
    }
   ],
   "source": [
    "df['headline'].str.len().mean()"
   ]
  },
  {
   "cell_type": "code",
   "execution_count": 10,
   "metadata": {},
   "outputs": [
    {
     "data": {
      "text/plain": [
       "7"
      ]
     },
     "execution_count": 10,
     "metadata": {},
     "output_type": "execute_result"
    }
   ],
   "source": [
    "df['headline'].str.len().min()"
   ]
  },
  {
   "cell_type": "markdown",
   "metadata": {},
   "source": [
    "Let's take a look at the shortest headline that we have. It is not sarcastic."
   ]
  },
  {
   "cell_type": "code",
   "execution_count": 11,
   "metadata": {},
   "outputs": [
    {
     "data": {
      "text/html": [
       "<div>\n",
       "<style scoped>\n",
       "    .dataframe tbody tr th:only-of-type {\n",
       "        vertical-align: middle;\n",
       "    }\n",
       "\n",
       "    .dataframe tbody tr th {\n",
       "        vertical-align: top;\n",
       "    }\n",
       "\n",
       "    .dataframe thead th {\n",
       "        text-align: right;\n",
       "    }\n",
       "</style>\n",
       "<table border=\"1\" class=\"dataframe\">\n",
       "  <thead>\n",
       "    <tr style=\"text-align: right;\">\n",
       "      <th></th>\n",
       "      <th>headline</th>\n",
       "      <th>is_sarcastic</th>\n",
       "    </tr>\n",
       "  </thead>\n",
       "  <tbody>\n",
       "    <tr>\n",
       "      <th>20478</th>\n",
       "      <td>bye bye</td>\n",
       "      <td>0</td>\n",
       "    </tr>\n",
       "  </tbody>\n",
       "</table>\n",
       "</div>"
      ],
      "text/plain": [
       "      headline  is_sarcastic\n",
       "20478  bye bye             0"
      ]
     },
     "execution_count": 11,
     "metadata": {},
     "output_type": "execute_result"
    }
   ],
   "source": [
    "df.loc[df['headline'].str.len() == 7]"
   ]
  },
  {
   "cell_type": "code",
   "execution_count": 12,
   "metadata": {},
   "outputs": [
    {
     "data": {
      "text/plain": [
       "254"
      ]
     },
     "execution_count": 12,
     "metadata": {},
     "output_type": "execute_result"
    }
   ],
   "source": [
    "df['headline'].str.len().max()"
   ]
  },
  {
   "cell_type": "markdown",
   "metadata": {},
   "source": [
    "In the opposite, the longest one is sarcastic."
   ]
  },
  {
   "cell_type": "code",
   "execution_count": 13,
   "metadata": {},
   "outputs": [
    {
     "data": {
      "text/html": [
       "<div>\n",
       "<style scoped>\n",
       "    .dataframe tbody tr th:only-of-type {\n",
       "        vertical-align: middle;\n",
       "    }\n",
       "\n",
       "    .dataframe tbody tr th {\n",
       "        vertical-align: top;\n",
       "    }\n",
       "\n",
       "    .dataframe thead th {\n",
       "        text-align: right;\n",
       "    }\n",
       "</style>\n",
       "<table border=\"1\" class=\"dataframe\">\n",
       "  <thead>\n",
       "    <tr style=\"text-align: right;\">\n",
       "      <th></th>\n",
       "      <th>headline</th>\n",
       "      <th>is_sarcastic</th>\n",
       "    </tr>\n",
       "  </thead>\n",
       "  <tbody>\n",
       "    <tr>\n",
       "      <th>19797</th>\n",
       "      <td>maya angelou, poet, author, civil rights activ...</td>\n",
       "      <td>1</td>\n",
       "    </tr>\n",
       "  </tbody>\n",
       "</table>\n",
       "</div>"
      ],
      "text/plain": [
       "                                                headline  is_sarcastic\n",
       "19797  maya angelou, poet, author, civil rights activ...             1"
      ]
     },
     "execution_count": 13,
     "metadata": {},
     "output_type": "execute_result"
    }
   ],
   "source": [
    "df.loc[df['headline'].str.len() == 254]"
   ]
  },
  {
   "cell_type": "code",
   "execution_count": 14,
   "metadata": {},
   "outputs": [
    {
     "data": {
      "text/plain": [
       "<StringArray>\n",
       "['maya angelou, poet, author, civil rights activist, and—holy cow—tony award–nominated actress, college professor, magazine editor, streetcar conductor—really? streetcar conductor? wow—calypso singer, nightclub performer, and foreign journalist, dead at 86']\n",
       "Length: 1, dtype: string"
      ]
     },
     "execution_count": 14,
     "metadata": {},
     "output_type": "execute_result"
    }
   ],
   "source": [
    "df.loc[df['headline'].str.len() == 254, 'headline'].values"
   ]
  },
  {
   "cell_type": "markdown",
   "metadata": {},
   "source": [
    "We can take a look at headlines' length distribution"
   ]
  },
  {
   "cell_type": "code",
   "execution_count": 15,
   "metadata": {},
   "outputs": [
    {
     "data": {
      "image/png": "[encoded data removed]",
      "text/plain": [
       "<Figure size 432x288 with 1 Axes>"
      ]
     },
     "metadata": {
      "needs_background": "light"
     },
     "output_type": "display_data"
    }
   ],
   "source": [
    "df['headline'].apply(lambda x: len(x)).hist();"
   ]
  },
  {
   "cell_type": "markdown",
   "metadata": {},
   "source": [
    "The classes are approximately balanced"
   ]
  },
  {
   "cell_type": "code",
   "execution_count": 16,
   "metadata": {},
   "outputs": [
    {
     "data": {
      "image/png": "[encoded data removed]",
      "text/plain": [
       "<Figure size 432x288 with 1 Axes>"
      ]
     },
     "metadata": {
      "needs_background": "light"
     },
     "output_type": "display_data"
    }
   ],
   "source": [
    "df['is_sarcastic'].hist();"
   ]
  },
  {
   "cell_type": "markdown",
   "metadata": {},
   "source": [
    "# Preprocessing"
   ]
  },
  {
   "cell_type": "markdown",
   "metadata": {},
   "source": [
    "The internet is full of emoticons. Maybe it would be a good idea to leave them? Sarcastic headlines may contain more of them than non-sarcastic headlines."
   ]
  },
  {
   "cell_type": "code",
   "execution_count": 17,
   "metadata": {},
   "outputs": [
    {
     "name": "stdout",
     "output_type": "stream",
     "text": [
      "Emoticon found: ):, is its headline sarcastic? 0\n",
      "Emoticon found: ):, is its headline sarcastic? 0\n"
     ]
    }
   ],
   "source": [
    "RE_EMOTICONS = re.compile(\"(:-?\\))|(:p)|(:d+)|(:-?\\()|(:/)|(;-?\\))|(<3)|(=\\))|(\\)-?:)|(:'\\()|(8\\))\")\n",
    "\n",
    "for i in range(len(df)):\n",
    "    match = RE_EMOTICONS.search(df.loc[i, 'headline'])\n",
    "    if match is not None:\n",
    "        print(f'Emoticon found: {match[0]}, is its headline sarcastic? {df.loc[i, \"is_sarcastic\"]}')"
   ]
  },
  {
   "cell_type": "markdown",
   "metadata": {},
   "source": [
    "It turns out there is very few of them, so I will get read of them, not to make my data noisy.\n",
    "\n",
    "I will also take a look at most popular tokens that appear in the headlines"
   ]
  },
  {
   "cell_type": "code",
   "execution_count": 18,
   "metadata": {},
   "outputs": [],
   "source": [
    "tokens = []\n",
    "for i in range(len(df)):\n",
    "    tokens += word_tokenize(df.loc[i, 'headline'])"
   ]
  },
  {
   "cell_type": "code",
   "execution_count": 19,
   "metadata": {},
   "outputs": [
    {
     "data": {
      "image/png": "[encoded data removed]",
      "text/plain": [
       "<Figure size 432x288 with 1 Axes>"
      ]
     },
     "metadata": {
      "needs_background": "light"
     },
     "output_type": "display_data"
    }
   ],
   "source": [
    "freq_dist = FreqDist(tokens)\n",
    "freq_dist.plot(30)\n",
    "plt.show()"
   ]
  },
  {
   "cell_type": "markdown",
   "metadata": {},
   "source": [
    "It is not a suprise that some stop words appear in the chart, but there are also some other words, like \"Trump\" or \"man\". I will compare the results with the one I obtain after some preprocessing. \n",
    "\n",
    "In particular, I will:\n",
    "- remove punctuation, stopwords and unnecessary spaces\n",
    "- lowercase the words\n",
    "- tokenize them\n",
    "- lemmatize them based on the context in which they appear. It is achieved by tagging part of speech using WordNet, a language database that describes the language structure"
   ]
  },
  {
   "cell_type": "code",
   "execution_count": 20,
   "metadata": {},
   "outputs": [],
   "source": [
    "class Preprocessor(BaseEstimator, TransformerMixin):\n",
    "    \"\"\"Scikit-learn compatible tranformer, implementing text preprocessing using nltk.\n",
    "        Each word in the headline is tokenized and lemmatized based on its context.\n",
    "        Stop words are removed. Digits can also be removed.\n",
    "        \n",
    "        Arguments\n",
    "        ---------\n",
    "            remove_digits : bool (default=False), whenever to remove digits from text\n",
    "            join_tokens : bool (default=True), whenever to join all the tokens to single string\n",
    "    \n",
    "    \"\"\"\n",
    "    \n",
    "    def __init__(self, remove_digits=False, join_tokens=True, remove_stop_words=True, fix_stop_words=False):\n",
    "            self.remove_digits=remove_digits\n",
    "            self.join_tokens = join_tokens\n",
    "            self.remove_stop_words = remove_stop_words\n",
    "            self.fix_stop_words = fix_stop_words\n",
    "            self.stop_words = set(sw.words('english'))\n",
    "            self.lemmatizer = WordNetLemmatizer()\n",
    "        \n",
    "    def fit(self, X, y=None):\n",
    "        if self.fix_stop_words:\n",
    "            self.fix_stopwords()\n",
    "        return self\n",
    "    \n",
    "    def fix_stopwords(self):\n",
    "        proper_words = ['few', 'itself', 'only', 'until',  'being', 'below', 'each', 'which', 'himself',\n",
    "                        'into', 'he', 'any', 'by', 'other', 'through', 'before', 'same', 'once', 'now',\n",
    "                        'their', 'what','her', 'be', 'this', 'but', 'you', 'ourselves', 'how', 'should',\n",
    "                        'because', 'me', 'yourself', 'our', 'the', 'your', 'we', 'why', 'here', 'my', 'these']\n",
    "        \n",
    "        for word in proper_words:\n",
    "            self.stop_words.remove(word)\n",
    "    \n",
    "    def transform(self, X):\n",
    "        return [self.tokenize(headline) for headline in X]\n",
    "    \n",
    "    def tokenize(self, headline):\n",
    "        tokens = []\n",
    "        for token, tag in pos_tag(word_tokenize(headline)):\n",
    "                            \n",
    "            token = self.lemmatize(token, tag)\n",
    "            token = self.normalize(token)\n",
    "            \n",
    "            if self.remove_stop_words:\n",
    "                if token in self.stop_words:\n",
    "                    continue\n",
    "                    \n",
    "            if len(token) <= 1:\n",
    "                continue\n",
    "                \n",
    "            tokens.append(token)\n",
    "            \n",
    "        if self.join_tokens:\n",
    "            return ' '.join(tokens)\n",
    "        else: \n",
    "            return tokens\n",
    "        \n",
    "    def normalize(self, text):\n",
    "        if self.remove_digits:\n",
    "            text = re.sub(r'\\d+', '', text)\n",
    "        text = self.remove_punctuation(text)\n",
    "        text = text.strip().lower()\n",
    "        return text\n",
    "    \n",
    "    def remove_punctuation(self, text):\n",
    "        text = ''.join([c for c in text if c not in string.punctuation ])\n",
    "        return text\n",
    "                                  \n",
    "    def lemmatize(self, token, tag):\n",
    "        tag = {\n",
    "            'N': wn.NOUN,\n",
    "            'V': wn.VERB,\n",
    "            'R': wn.ADV,\n",
    "            'J': wn.ADJ\n",
    "        }.get(tag[0], wn.NOUN)\n",
    "\n",
    "        return self.lemmatizer.lemmatize(token, tag)\n",
    "        "
   ]
  },
  {
   "cell_type": "code",
   "execution_count": 21,
   "metadata": {},
   "outputs": [],
   "source": [
    "tokens_preprocessed = []\n",
    "preprocessor = Preprocessor(join_tokens=False)\n",
    "for i in range(len(df)):\n",
    "    preprocessed_token = preprocessor.tokenize(df.loc[i, 'headline'])\n",
    "    tokens_preprocessed += preprocessed_token"
   ]
  },
  {
   "cell_type": "markdown",
   "metadata": {},
   "source": [
    "After applying preprocessing steps I get much more meaningful results. This time \"Trump\" tops the list of most frequent words. Politics seems really popular topic of the headlines, what is not a suprise. One can find \"Obama\", \"american\", \"nation\" at the list too."
   ]
  },
  {
   "cell_type": "code",
   "execution_count": 22,
   "metadata": {},
   "outputs": [
    {
     "data": {
      "image/png": "[encoded data removed]",
      "text/plain": [
       "<Figure size 432x288 with 1 Axes>"
      ]
     },
     "metadata": {
      "needs_background": "light"
     },
     "output_type": "display_data"
    }
   ],
   "source": [
    "freq_dist_preprocessed = FreqDist(tokens_preprocessed)\n",
    "freq_dist_preprocessed.plot(30)\n",
    "plt.show()"
   ]
  },
  {
   "cell_type": "markdown",
   "metadata": {},
   "source": [
    "What also helps us to understand the text data we are working with are wordclouds"
   ]
  },
  {
   "cell_type": "code",
   "execution_count": 23,
   "metadata": {},
   "outputs": [],
   "source": [
    "def plot_wordcloud(wordcloud):\n",
    "    fig = plt.figure(figsize=(10, 10))\n",
    "    plt.imshow(wordcloud)\n",
    "    plt.axis('off')\n",
    "    plt.show()"
   ]
  },
  {
   "cell_type": "code",
   "execution_count": 24,
   "metadata": {},
   "outputs": [
    {
     "data": {
      "image/png": "[encoded data removed]",
      "text/plain": [
       "<Figure size 720x720 with 1 Axes>"
      ]
     },
     "metadata": {
      "needs_background": "light"
     },
     "output_type": "display_data"
    }
   ],
   "source": [
    "wordcloud = WordCloud().generate(' '.join(tokens_preprocessed))\n",
    "plot_wordcloud(wordcloud)"
   ]
  },
  {
   "cell_type": "markdown",
   "metadata": {},
   "source": [
    "Let's take a look at a few of the headlines itself"
   ]
  },
  {
   "cell_type": "code",
   "execution_count": 25,
   "metadata": {},
   "outputs": [
    {
     "data": {
      "text/plain": [
       "['former versace store clerk sue secret black code minority shopper',\n",
       " 'roseanne revival catch thorny political mood good bad',\n",
       " 'mom start fear son web series close thing grandchild',\n",
       " 'boehner want wife listen come alternative debtreduction idea',\n",
       " 'jk rowling wish snape happy birthday magical way']"
      ]
     },
     "execution_count": 25,
     "metadata": {},
     "output_type": "execute_result"
    }
   ],
   "source": [
    "preprocessed = Preprocessor().fit_transform(df['headline'], df['is_sarcastic'])\n",
    "preprocessed[:5]"
   ]
  },
  {
   "cell_type": "markdown",
   "metadata": {},
   "source": [
    "# Classification"
   ]
  },
  {
   "cell_type": "markdown",
   "metadata": {},
   "source": [
    "For my classification model, I will try logistic regression first. It is know to perform well on simple NLP tasks. With little parameter tuning we can get a decent result. Additionaly, I will experiment with word representation: I will use TF-IDF first, and simple counts second."
   ]
  },
  {
   "cell_type": "code",
   "execution_count": 26,
   "metadata": {},
   "outputs": [
    {
     "name": "stdout",
     "output_type": "stream",
     "text": [
      "Logistic regression accuracy: 0.78\n"
     ]
    },
    {
     "data": {
      "image/png": "[encoded data removed]",
      "text/plain": [
       "<Figure size 432x288 with 2 Axes>"
      ]
     },
     "metadata": {
      "needs_background": "light"
     },
     "output_type": "display_data"
    }
   ],
   "source": [
    "df_train_test = df.copy()\n",
    "y, X = df['is_sarcastic'], df['headline']\n",
    "X_train, X_test, y_train, y_test = train_test_split(X, y, test_size=0.3, random_state=42)\n",
    "\n",
    "model = Pipeline(steps=[\n",
    "    ('preprocessor', Preprocessor()),\n",
    "    ('tf_idf', TfidfVectorizer()),\n",
    "    ('model', LogisticRegression(random_state=42))\n",
    "])\n",
    "\n",
    "model = model.fit(X_train, y_train)\n",
    "y_pred = model.predict(X_test)\n",
    "print(f'Logistic regression accuracy: {round(accuracy_score(y_test, y_pred), 3)}')\n",
    "\n",
    "plot_confusion_matrix(model, X_test, y_test, display_labels=['non-sarcastic', 'sarcastic'],\n",
    "                      cmap=plt.cm.Blues, values_format='d')\n",
    "plt.show()"
   ]
  },
  {
   "cell_type": "code",
   "execution_count": 27,
   "metadata": {},
   "outputs": [
    {
     "name": "stdout",
     "output_type": "stream",
     "text": [
      "Logistic regression accuracy: 0.785\n"
     ]
    },
    {
     "data": {
      "image/png": "[encoded data removed]",
      "text/plain": [
       "<Figure size 432x288 with 2 Axes>"
      ]
     },
     "metadata": {
      "needs_background": "light"
     },
     "output_type": "display_data"
    }
   ],
   "source": [
    "model = Pipeline(steps=[\n",
    "    ('preprocessor', Preprocessor()),\n",
    "    ('count_vec', CountVectorizer()),\n",
    "    ('model', LogisticRegression(random_state=42))\n",
    "])\n",
    "\n",
    "model = model.fit(X_train, y_train)\n",
    "y_pred = model.predict(X_test)\n",
    "print(f'Logistic regression accuracy: {round(accuracy_score(y_test, y_pred), 3)}')\n",
    "\n",
    "plot_confusion_matrix(model, X_test, y_test, display_labels=['non-sarcastic', 'sarcastic'],\n",
    "                      cmap=plt.cm.Blues, values_format='d')\n",
    "plt.show()"
   ]
  },
  {
   "cell_type": "markdown",
   "metadata": {},
   "source": [
    "Two ways of representating words perform comparatively.\n",
    "\n",
    "I've also tried how the model works with larger vocabulary, without removing stop words. It turns out they are not always only noise, our model performs better now! \n",
    "\n",
    "In particular, there is less false negatives: prieviously it made the mistake of marking sarcastic headlines are non-sarcastic more often."
   ]
  },
  {
   "cell_type": "code",
   "execution_count": 28,
   "metadata": {},
   "outputs": [
    {
     "name": "stdout",
     "output_type": "stream",
     "text": [
      "Logistic regression without removig stop words accuracy: 0.831\n"
     ]
    },
    {
     "data": {
      "image/png": "[encoded data removed]",
      "text/plain": [
       "<Figure size 432x288 with 2 Axes>"
      ]
     },
     "metadata": {
      "needs_background": "light"
     },
     "output_type": "display_data"
    }
   ],
   "source": [
    "model = Pipeline(steps=[\n",
    "    ('preprocessor', Preprocessor(remove_stop_words=False)),\n",
    "    ('tf_idf', TfidfVectorizer()),\n",
    "    ('model', LogisticRegression(random_state=42))\n",
    "])\n",
    "\n",
    "model = model.fit(X_train, y_train)\n",
    "y_pred = model.predict(X_test)\n",
    "accuracy_score(y_test, y_pred)\n",
    "print(f'Logistic regression without removig stop words accuracy: {round(accuracy_score(y_test, y_pred), 3)}')\n",
    "\n",
    "plot_confusion_matrix(model, X_test, y_test, display_labels=['non-sarcastic', 'sarcastic'],\n",
    "                      cmap=plt.cm.Blues, values_format='d')\n",
    "plt.show()"
   ]
  },
  {
   "cell_type": "markdown",
   "metadata": {},
   "source": [
    "It may mean that one shouldn't blindly perform stopwords removal. Let's check which words are consider stopwords according to nltk. Maybe we should pop some of them from this list?"
   ]
  },
  {
   "cell_type": "code",
   "execution_count": 29,
   "metadata": {},
   "outputs": [],
   "source": [
    "def verify_preprocessing(headlines, labels):\n",
    "    lemmatizer = WordNetLemmatizer()\n",
    "    discarded_tokens = dict()\n",
    "    discarded_tokens_class_prob = dict()\n",
    "    \n",
    "    for i in range(len(headlines)):\n",
    "        for token, tag in pos_tag(word_tokenize(headlines[i])):\n",
    "            tag = {\n",
    "                    'N': wn.NOUN,\n",
    "                    'V': wn.VERB,\n",
    "                    'R': wn.ADV,\n",
    "                    'J': wn.ADJ\n",
    "                }.get(tag[0], wn.NOUN)\n",
    "\n",
    "            token = lemmatizer.lemmatize(token, tag)\n",
    "            \n",
    "            if len(token) <= 1:\n",
    "                continue\n",
    "\n",
    "            if token in set(sw.words('english')):\n",
    "                if token in discarded_tokens:\n",
    "                    discarded_tokens[token] += 1\n",
    "                    discarded_tokens_class_prob[token] += labels[i]\n",
    "                else:\n",
    "                    discarded_tokens[token] = 1\n",
    "                    discarded_tokens_class_prob[token] = labels[i]\n",
    "                    \n",
    "    discarded_tokens_class_prob = {k: v / discarded_tokens[k] for k, v in discarded_tokens_class_prob.items()}\n",
    "    \n",
    "    return discarded_tokens, discarded_tokens_class_prob\n",
    "    \n",
    "    \n",
    "discarded_tokens, discarded_tokens_class_prob = verify_preprocessing(X_train.values, y_train.values)"
   ]
  },
  {
   "cell_type": "code",
   "execution_count": 30,
   "metadata": {},
   "outputs": [
    {
     "data": {
      "text/plain": [
       "{'the': 3590,\n",
       " 'be': 2834,\n",
       " 'into': 352,\n",
       " 'this': 599,\n",
       " 'up': 519,\n",
       " 'out': 555,\n",
       " 'of': 3924,\n",
       " 'after': 575,\n",
       " 'to': 5735,\n",
       " 'on': 1679,\n",
       " 'when': 218,\n",
       " 'that': 558,\n",
       " 'he': 538,\n",
       " 'what': 479,\n",
       " 'it': 819,\n",
       " 'have': 926,\n",
       " 'why': 352,\n",
       " 'so': 144,\n",
       " 'for': 2342,\n",
       " 'me': 83,\n",
       " 'from': 863,\n",
       " 'other': 119,\n",
       " 'an': 254,\n",
       " 'against': 142,\n",
       " 'in': 2946,\n",
       " 'all': 360,\n",
       " 'there': 121,\n",
       " 'how': 559,\n",
       " 'once': 61,\n",
       " 'over': 324,\n",
       " 'where': 109,\n",
       " 'down': 203,\n",
       " 'with': 1273,\n",
       " 'you': 774,\n",
       " 'at': 819,\n",
       " 'by': 605,\n",
       " 'we': 234,\n",
       " 'during': 150,\n",
       " 'off': 245,\n",
       " 'before': 192,\n",
       " 'can': 310,\n",
       " 'himself': 38,\n",
       " 'some': 129,\n",
       " 'they': 246,\n",
       " 'their': 204,\n",
       " 'own': 117,\n",
       " 'who': 431,\n",
       " 'his': 434,\n",
       " 'only': 152,\n",
       " 'not': 486,\n",
       " 'and': 1329,\n",
       " 'but': 149,\n",
       " 'do': 722,\n",
       " 'below': 4,\n",
       " 'if': 210,\n",
       " 'she': 205,\n",
       " 'now': 265,\n",
       " 'our': 120,\n",
       " 'should': 205,\n",
       " 'about': 756,\n",
       " 'her': 291,\n",
       " 'more': 375,\n",
       " 'same': 56,\n",
       " 'while': 117,\n",
       " 'your': 441,\n",
       " 'will': 387,\n",
       " 'as': 57,\n",
       " 'any': 76,\n",
       " 'again': 109,\n",
       " 'no': 252,\n",
       " 'above': 10,\n",
       " 'here': 168,\n",
       " 'or': 152,\n",
       " 'than': 223,\n",
       " 'them': 103,\n",
       " 'just': 395,\n",
       " 'very': 54,\n",
       " 'most': 181,\n",
       " 'too': 131,\n",
       " 'each': 57,\n",
       " 'him': 170,\n",
       " 'under': 87,\n",
       " 'themselves': 21,\n",
       " 'yourself': 16,\n",
       " 'until': 50,\n",
       " 'few': 54,\n",
       " 'through': 118,\n",
       " 'these': 135,\n",
       " 'both': 14,\n",
       " 'my': 222,\n",
       " 'itself': 19,\n",
       " 'herself': 10,\n",
       " 'which': 33,\n",
       " 'those': 42,\n",
       " 'because': 62,\n",
       " 'between': 68,\n",
       " 'don': 10,\n",
       " 'then': 16,\n",
       " 'nor': 3,\n",
       " 'myself': 9,\n",
       " 'haven': 1,\n",
       " 'such': 13,\n",
       " 'ourselves': 5,\n",
       " 'yours': 2,\n",
       " 'further': 2,\n",
       " 'shan': 1,\n",
       " 'being': 4,\n",
       " 'll': 1,\n",
       " 'whom': 1,\n",
       " 'ma': 1}"
      ]
     },
     "execution_count": 30,
     "metadata": {},
     "output_type": "execute_result"
    }
   ],
   "source": [
    "discarded_tokens"
   ]
  },
  {
   "cell_type": "markdown",
   "metadata": {},
   "source": [
    "We can see that some of the tokens are quite meaningful and for a great number of them the probabilty of the their headline being sarcastic is higher (or lower than the mean)."
   ]
  },
  {
   "cell_type": "code",
   "execution_count": 31,
   "metadata": {},
   "outputs": [
    {
     "name": "stdout",
     "output_type": "stream",
     "text": [
      "Class proportion in training dataset: 0.435\n"
     ]
    }
   ],
   "source": [
    "print(f'Class proportion in training dataset: {round(y_train.sum() / len(y_train), 3)}')"
   ]
  },
  {
   "cell_type": "code",
   "execution_count": 32,
   "metadata": {},
   "outputs": [
    {
     "data": {
      "text/plain": [
       "[('below', 1.0),\n",
       " ('ll', 1.0),\n",
       " ('whom', 1.0),\n",
       " ('ma', 1.0),\n",
       " ('itself', 0.8421052631578947),\n",
       " ('each', 0.8070175438596491),\n",
       " ('until', 0.8),\n",
       " ('few', 0.7962962962962963),\n",
       " ('only', 0.7763157894736842),\n",
       " ('being', 0.75),\n",
       " ('any', 0.7368421052631579),\n",
       " ('which', 0.7272727272727273),\n",
       " ('himself', 0.6842105263157895),\n",
       " ('into', 0.6761363636363636),\n",
       " ('through', 0.6610169491525424),\n",
       " ('by', 0.6495867768595042),\n",
       " ('he', 0.6468401486988847),\n",
       " ('same', 0.6428571428571429),\n",
       " ('both', 0.6428571428571429),\n",
       " ('before', 0.6354166666666666),\n",
       " ('him', 0.6176470588235294),\n",
       " ('such', 0.6153846153846154),\n",
       " ('between', 0.6029411764705882),\n",
       " ('above', 0.6),\n",
       " ('herself', 0.6),\n",
       " ('out', 0.5945945945945946),\n",
       " ('now', 0.5924528301886792),\n",
       " ('other', 0.5882352941176471),\n",
       " ('some', 0.5813953488372093),\n",
       " ('during', 0.58),\n",
       " ('they', 0.5772357723577236),\n",
       " ('off', 0.5755102040816327),\n",
       " ('once', 0.5737704918032787),\n",
       " ('own', 0.5726495726495726),\n",
       " ('just', 0.5721518987341773),\n",
       " ('those', 0.5714285714285714),\n",
       " ('where', 0.5688073394495413),\n",
       " ('of', 0.5570846075433231),\n",
       " ('up', 0.5568400770712909),\n",
       " ('down', 0.5467980295566502),\n",
       " ('as', 0.543859649122807),\n",
       " ('while', 0.5299145299145299),\n",
       " ('have', 0.5280777537796977),\n",
       " ('again', 0.5229357798165137),\n",
       " ('under', 0.5057471264367817),\n",
       " ('them', 0.5048543689320388),\n",
       " ('to', 0.5047951176983435),\n",
       " ('who', 0.5034802784222738),\n",
       " ('yours', 0.5),\n",
       " ('further', 0.5),\n",
       " ('if', 0.49523809523809526),\n",
       " ('all', 0.4888888888888889),\n",
       " ('she', 0.48292682926829267),\n",
       " ('more', 0.4826666666666667),\n",
       " ('too', 0.48091603053435117),\n",
       " ('no', 0.4801587301587302),\n",
       " ('from', 0.473928157589803),\n",
       " ('not', 0.4670781893004115),\n",
       " ('at', 0.4652014652014652),\n",
       " ('with', 0.4642576590730558),\n",
       " ('after', 0.43478260869565216),\n",
       " ('on', 0.4324002382370459),\n",
       " ('or', 0.4276315789473684),\n",
       " ('for', 0.4252775405636208),\n",
       " ('in', 0.41921249151391715),\n",
       " ('most', 0.40331491712707185),\n",
       " ('that', 0.3906810035842294),\n",
       " ('when', 0.38990825688073394),\n",
       " ('it', 0.3882783882783883),\n",
       " ('can', 0.38387096774193546),\n",
       " ('about', 0.38095238095238093),\n",
       " ('than', 0.37668161434977576),\n",
       " ('there', 0.371900826446281),\n",
       " ('do', 0.3573407202216066),\n",
       " ('his', 0.3387096774193548),\n",
       " ('against', 0.3380281690140845),\n",
       " ('over', 0.3333333333333333),\n",
       " ('very', 0.3333333333333333),\n",
       " ('themselves', 0.3333333333333333),\n",
       " ('nor', 0.3333333333333333),\n",
       " ('will', 0.32299741602067183),\n",
       " ('so', 0.3194444444444444),\n",
       " ('don', 0.3),\n",
       " ('their', 0.27941176470588236),\n",
       " ('her', 0.2508591065292096),\n",
       " ('then', 0.25),\n",
       " ('what', 0.24217118997912318),\n",
       " ('but', 0.2348993288590604),\n",
       " ('be', 0.22935779816513763),\n",
       " ('this', 0.22036727879799667),\n",
       " ('how', 0.2146690518783542),\n",
       " ('because', 0.20967741935483872),\n",
       " ('ourselves', 0.2),\n",
       " ('you', 0.19767441860465115),\n",
       " ('should', 0.17560975609756097),\n",
       " ('me', 0.1686746987951807),\n",
       " ('and', 0.13694507148231752),\n",
       " ('yourself', 0.125),\n",
       " ('your', 0.11791383219954649),\n",
       " ('we', 0.1111111111111111),\n",
       " ('myself', 0.1111111111111111),\n",
       " ('the', 0.1094707520891365),\n",
       " ('our', 0.1),\n",
       " ('an', 0.09448818897637795),\n",
       " ('my', 0.09009009009009009),\n",
       " ('here', 0.07738095238095238),\n",
       " ('why', 0.07670454545454546),\n",
       " ('these', 0.05925925925925926),\n",
       " ('haven', 0.0),\n",
       " ('shan', 0.0)]"
      ]
     },
     "execution_count": 32,
     "metadata": {},
     "output_type": "execute_result"
    }
   ],
   "source": [
    "sorted(discarded_tokens_class_prob.items(), key=lambda item: item[1], reverse=True)"
   ]
  },
  {
   "cell_type": "markdown",
   "metadata": {},
   "source": [
    "We should be very careful about the way we handle that. Probably it would be a good idea to ask language experts  what should we do in this particular application. Data preprocessing can have a great impact on usefulness of our models. Data scientists should always think about veryfication of results they get. In case of logistic regression that I've used here, the order in which words appear in the headlines doesn't metter, but in case of sequence models it can have significant importance - consider tokens like 'not'.\n",
    "\n",
    "I've tried removing some tokens from the list of stopwords, and noticed that the accuracy increases."
   ]
  },
  {
   "cell_type": "code",
   "execution_count": 33,
   "metadata": {},
   "outputs": [
    {
     "name": "stdout",
     "output_type": "stream",
     "text": [
      "Logistic regression accuracy: 0.823\n"
     ]
    },
    {
     "data": {
      "image/png": "[encoded data removed]",
      "text/plain": [
       "<Figure size 432x288 with 2 Axes>"
      ]
     },
     "metadata": {
      "needs_background": "light"
     },
     "output_type": "display_data"
    }
   ],
   "source": [
    "model = Pipeline(steps=[\n",
    "    ('preprocessor', Preprocessor(fix_stop_words=True)),\n",
    "    ('tf_idf', TfidfVectorizer()),\n",
    "    ('model', LogisticRegression(random_state=42))\n",
    "])\n",
    "\n",
    "model = model.fit(X_train, y_train)\n",
    "y_pred = model.predict(X_test)\n",
    "print(f'Logistic regression accuracy: {round(accuracy_score(y_test, y_pred), 3)}')\n",
    "\n",
    "plot_confusion_matrix(model, X_test, y_test, display_labels=['non-sarcastic', 'sarcastic'],\n",
    "                      cmap=plt.cm.Blues, values_format='d')\n",
    "plt.show()"
   ]
  },
  {
   "cell_type": "markdown",
   "metadata": {},
   "source": [
    "We can try to improve classification result by parameter tuning. I will try different values for regularization term."
   ]
  },
  {
   "cell_type": "code",
   "execution_count": 34,
   "metadata": {},
   "outputs": [
    {
     "name": "stdout",
     "output_type": "stream",
     "text": [
      "Best CV score: 0.8316417938422278\n",
      "Fine-tuned logistic regression accuracy: 0.835\n"
     ]
    }
   ],
   "source": [
    "logistic = LogisticRegression(random_state=42)\n",
    "\n",
    "pipeline = Pipeline(steps=[\n",
    "    ('preprocessor', Preprocessor(remove_stop_words=False)),\n",
    "    ('tf_idf', TfidfVectorizer()),\n",
    "    ('logistic', logistic)\n",
    "])\n",
    "\n",
    "params = {\n",
    "    'logistic__C': [0.1, 0.5, 1.0, 2.0]\n",
    "}\n",
    "\n",
    "search = GridSearchCV(pipeline, param_grid=params)\n",
    "search = search.fit(X_train, y_train)\n",
    "print(f'Best CV score: {search.best_score_}')\n",
    "\n",
    "y_pred = search.predict(X_test)\n",
    "print(f'Fine-tuned logistic regression accuracy: {round(accuracy_score(y_test, y_pred), 3)}')"
   ]
  },
  {
   "cell_type": "markdown",
   "metadata": {},
   "source": [
    "We achieved slightly better result using less regularization. The results in the table clearly indicates that the less regularization, the betted the model performed."
   ]
  },
  {
   "cell_type": "code",
   "execution_count": 35,
   "metadata": {},
   "outputs": [
    {
     "data": {
      "text/html": [
       "<div>\n",
       "<style scoped>\n",
       "    .dataframe tbody tr th:only-of-type {\n",
       "        vertical-align: middle;\n",
       "    }\n",
       "\n",
       "    .dataframe tbody tr th {\n",
       "        vertical-align: top;\n",
       "    }\n",
       "\n",
       "    .dataframe thead th {\n",
       "        text-align: right;\n",
       "    }\n",
       "</style>\n",
       "<table border=\"1\" class=\"dataframe\">\n",
       "  <thead>\n",
       "    <tr style=\"text-align: right;\">\n",
       "      <th></th>\n",
       "      <th>mean_fit_time</th>\n",
       "      <th>std_fit_time</th>\n",
       "      <th>mean_score_time</th>\n",
       "      <th>std_score_time</th>\n",
       "      <th>param_logistic__C</th>\n",
       "      <th>params</th>\n",
       "      <th>split0_test_score</th>\n",
       "      <th>split1_test_score</th>\n",
       "      <th>split2_test_score</th>\n",
       "      <th>split3_test_score</th>\n",
       "      <th>split4_test_score</th>\n",
       "      <th>mean_test_score</th>\n",
       "      <th>std_test_score</th>\n",
       "      <th>rank_test_score</th>\n",
       "    </tr>\n",
       "  </thead>\n",
       "  <tbody>\n",
       "    <tr>\n",
       "      <th>0</th>\n",
       "      <td>16.951531</td>\n",
       "      <td>1.458514</td>\n",
       "      <td>4.313102</td>\n",
       "      <td>0.622951</td>\n",
       "      <td>0.1</td>\n",
       "      <td>{'logistic__C': 0.1}</td>\n",
       "      <td>0.785772</td>\n",
       "      <td>0.801020</td>\n",
       "      <td>0.785177</td>\n",
       "      <td>0.789742</td>\n",
       "      <td>0.796992</td>\n",
       "      <td>0.791741</td>\n",
       "      <td>0.006267</td>\n",
       "      <td>4</td>\n",
       "    </tr>\n",
       "    <tr>\n",
       "      <th>1</th>\n",
       "      <td>16.427202</td>\n",
       "      <td>0.589367</td>\n",
       "      <td>4.124985</td>\n",
       "      <td>0.352338</td>\n",
       "      <td>0.5</td>\n",
       "      <td>{'logistic__C': 0.5}</td>\n",
       "      <td>0.814765</td>\n",
       "      <td>0.835124</td>\n",
       "      <td>0.815521</td>\n",
       "      <td>0.819280</td>\n",
       "      <td>0.832707</td>\n",
       "      <td>0.823479</td>\n",
       "      <td>0.008691</td>\n",
       "      <td>3</td>\n",
       "    </tr>\n",
       "    <tr>\n",
       "      <th>2</th>\n",
       "      <td>15.998402</td>\n",
       "      <td>0.776272</td>\n",
       "      <td>4.053964</td>\n",
       "      <td>0.403585</td>\n",
       "      <td>1</td>\n",
       "      <td>{'logistic__C': 1.0}</td>\n",
       "      <td>0.824966</td>\n",
       "      <td>0.837272</td>\n",
       "      <td>0.820623</td>\n",
       "      <td>0.826531</td>\n",
       "      <td>0.838883</td>\n",
       "      <td>0.829655</td>\n",
       "      <td>0.007162</td>\n",
       "      <td>2</td>\n",
       "    </tr>\n",
       "    <tr>\n",
       "      <th>3</th>\n",
       "      <td>15.742619</td>\n",
       "      <td>0.671587</td>\n",
       "      <td>3.955106</td>\n",
       "      <td>0.323520</td>\n",
       "      <td>2</td>\n",
       "      <td>{'logistic__C': 2.0}</td>\n",
       "      <td>0.829799</td>\n",
       "      <td>0.840226</td>\n",
       "      <td>0.821697</td>\n",
       "      <td>0.827336</td>\n",
       "      <td>0.839151</td>\n",
       "      <td>0.831642</td>\n",
       "      <td>0.007084</td>\n",
       "      <td>1</td>\n",
       "    </tr>\n",
       "  </tbody>\n",
       "</table>\n",
       "</div>"
      ],
      "text/plain": [
       "   mean_fit_time  std_fit_time  mean_score_time  std_score_time  \\\n",
       "0      16.951531      1.458514         4.313102        0.622951   \n",
       "1      16.427202      0.589367         4.124985        0.352338   \n",
       "2      15.998402      0.776272         4.053964        0.403585   \n",
       "3      15.742619      0.671587         3.955106        0.323520   \n",
       "\n",
       "  param_logistic__C                params  split0_test_score  \\\n",
       "0               0.1  {'logistic__C': 0.1}           0.785772   \n",
       "1               0.5  {'logistic__C': 0.5}           0.814765   \n",
       "2                 1  {'logistic__C': 1.0}           0.824966   \n",
       "3                 2  {'logistic__C': 2.0}           0.829799   \n",
       "\n",
       "   split1_test_score  split2_test_score  split3_test_score  split4_test_score  \\\n",
       "0           0.801020           0.785177           0.789742           0.796992   \n",
       "1           0.835124           0.815521           0.819280           0.832707   \n",
       "2           0.837272           0.820623           0.826531           0.838883   \n",
       "3           0.840226           0.821697           0.827336           0.839151   \n",
       "\n",
       "   mean_test_score  std_test_score  rank_test_score  \n",
       "0         0.791741        0.006267                4  \n",
       "1         0.823479        0.008691                3  \n",
       "2         0.829655        0.007162                2  \n",
       "3         0.831642        0.007084                1  "
      ]
     },
     "execution_count": 35,
     "metadata": {},
     "output_type": "execute_result"
    }
   ],
   "source": [
    "pd.DataFrame(search.cv_results_)"
   ]
  },
  {
   "cell_type": "markdown",
   "metadata": {},
   "source": [
    "We can check which words got the biggest coefficients"
   ]
  },
  {
   "cell_type": "code",
   "execution_count": 36,
   "metadata": {},
   "outputs": [
    {
     "data": {
      "text/html": [
       "<div>\n",
       "<style scoped>\n",
       "    .dataframe tbody tr th:only-of-type {\n",
       "        vertical-align: middle;\n",
       "    }\n",
       "\n",
       "    .dataframe tbody tr th {\n",
       "        vertical-align: top;\n",
       "    }\n",
       "\n",
       "    .dataframe thead th {\n",
       "        text-align: right;\n",
       "    }\n",
       "</style>\n",
       "<table border=\"1\" class=\"dataframe\">\n",
       "  <thead>\n",
       "    <tr style=\"text-align: right;\">\n",
       "      <th></th>\n",
       "      <th>nation</th>\n",
       "      <th>area</th>\n",
       "      <th>man</th>\n",
       "      <th>report</th>\n",
       "      <th>only</th>\n",
       "      <th>local</th>\n",
       "      <th>fuck</th>\n",
       "      <th>of</th>\n",
       "      <th>self</th>\n",
       "      <th>study</th>\n",
       "      <th>...</th>\n",
       "      <th>my</th>\n",
       "      <th>how</th>\n",
       "      <th>donald</th>\n",
       "      <th>why</th>\n",
       "      <th>an</th>\n",
       "      <th>your</th>\n",
       "      <th>be</th>\n",
       "      <th>trump</th>\n",
       "      <th>and</th>\n",
       "      <th>the</th>\n",
       "    </tr>\n",
       "  </thead>\n",
       "  <tbody>\n",
       "    <tr>\n",
       "      <th>coefficient</th>\n",
       "      <td>7.902981</td>\n",
       "      <td>7.175414</td>\n",
       "      <td>6.047503</td>\n",
       "      <td>5.171979</td>\n",
       "      <td>4.502354</td>\n",
       "      <td>4.487352</td>\n",
       "      <td>4.06124</td>\n",
       "      <td>4.051307</td>\n",
       "      <td>3.696479</td>\n",
       "      <td>3.599335</td>\n",
       "      <td>...</td>\n",
       "      <td>-4.369171</td>\n",
       "      <td>-4.544651</td>\n",
       "      <td>-4.750526</td>\n",
       "      <td>-5.018696</td>\n",
       "      <td>-5.097787</td>\n",
       "      <td>-5.464287</td>\n",
       "      <td>-5.526735</td>\n",
       "      <td>-6.595798</td>\n",
       "      <td>-7.745464</td>\n",
       "      <td>-11.562228</td>\n",
       "    </tr>\n",
       "  </tbody>\n",
       "</table>\n",
       "<p>1 rows × 19121 columns</p>\n",
       "</div>"
      ],
      "text/plain": [
       "               nation      area       man    report      only     local  \\\n",
       "coefficient  7.902981  7.175414  6.047503  5.171979  4.502354  4.487352   \n",
       "\n",
       "                fuck        of      self     study  ...        my       how  \\\n",
       "coefficient  4.06124  4.051307  3.696479  3.599335  ... -4.369171 -4.544651   \n",
       "\n",
       "               donald       why        an      your        be     trump  \\\n",
       "coefficient -4.750526 -5.018696 -5.097787 -5.464287 -5.526735 -6.595798   \n",
       "\n",
       "                  and        the  \n",
       "coefficient -7.745464 -11.562228  \n",
       "\n",
       "[1 rows x 19121 columns]"
      ]
     },
     "execution_count": 36,
     "metadata": {},
     "output_type": "execute_result"
    }
   ],
   "source": [
    "pd.DataFrame(search.best_estimator_['logistic'].coef_[0], \n",
    "             columns=['coefficient'],\n",
    "             index=search.best_estimator_['tf_idf'].get_feature_names()).sort_values(by='coefficient', ascending=False).T"
   ]
  },
  {
   "cell_type": "markdown",
   "metadata": {},
   "source": [
    "I've also tried removing digits in the headlines, but it doesn't have much effect on classification."
   ]
  },
  {
   "cell_type": "code",
   "execution_count": 37,
   "metadata": {},
   "outputs": [
    {
     "name": "stdout",
     "output_type": "stream",
     "text": [
      "Logistic regression accuracy with no stop words and no digits: 0.834\n"
     ]
    }
   ],
   "source": [
    "model = Pipeline(steps=[\n",
    "    ('preprocessor', Preprocessor(remove_stop_words=False, remove_digits=True)),\n",
    "    ('tf_idf', TfidfVectorizer()),\n",
    "    ('model', LogisticRegression(C=2, random_state=42))\n",
    "])\n",
    "\n",
    "model = model.fit(X_train, y_train)\n",
    "y_pred = model.predict(X_test)\n",
    "print(f'Logistic regression accuracy with no stop words and no digits: {round(accuracy_score(y_test, y_pred), 3)}')"
   ]
  },
  {
   "cell_type": "markdown",
   "metadata": {},
   "source": [
    "I've also tried to use Naive Bayes classifier and it performs almost equally well as logistic regression."
   ]
  },
  {
   "cell_type": "code",
   "execution_count": 38,
   "metadata": {},
   "outputs": [
    {
     "name": "stdout",
     "output_type": "stream",
     "text": [
      "Naive Bayes accuracy: 0.836\n"
     ]
    }
   ],
   "source": [
    "nb_pipeline = Pipeline(steps=[\n",
    "    ('preprocessor', Preprocessor(remove_stop_words=False)),\n",
    "    ('count_vec', CountVectorizer()),\n",
    "    ('nb', MultinomialNB())\n",
    "])\n",
    "\n",
    "naive_bayes = nb_pipeline\n",
    "\n",
    "naive_bayes = naive_bayes.fit(X_train, y_train)\n",
    "nb_pred = naive_bayes.predict(X_test)\n",
    "print(f'Naive Bayes accuracy: {round(accuracy_score(y_test, nb_pred), 3)}')"
   ]
  },
  {
   "cell_type": "markdown",
   "metadata": {},
   "source": [
    "XGBoost, Kaggle comptetitons-winning model, does not perform that well on this data. It gives worse results than some simpler models."
   ]
  },
  {
   "cell_type": "code",
   "execution_count": 39,
   "metadata": {},
   "outputs": [
    {
     "name": "stdout",
     "output_type": "stream",
     "text": [
      "XGBoost accuracy: 0.776\n"
     ]
    }
   ],
   "source": [
    "xgb_pipeline = Pipeline(steps=[\n",
    "    ('preprocessor', Preprocessor(remove_stop_words=False)),\n",
    "    ('count_vec', CountVectorizer()),\n",
    "    ('xgb', xgb.XGBClassifier(random_state=42))\n",
    "])\n",
    "\n",
    "params = {\n",
    "    'xgb__max_depth': [5, 7]\n",
    "}\n",
    "\n",
    "xgb_search = GridSearchCV(xgb_pipeline, param_grid=params)\n",
    "\n",
    "xgb_classifier = xgb_search.fit(X_train, y_train)\n",
    "xgb_pred = xgb_classifier.predict(X_test)\n",
    "print(f'XGBoost accuracy: {round(accuracy_score(y_test, xgb_pred), 3)}')"
   ]
  },
  {
   "cell_type": "markdown",
   "metadata": {},
   "source": [
    "After trying several preprocessing strategies and some classical machine learning models I was curious how deep neural networks will perform on this data. I will present second notebook describing deep learning - based approach. In order to be sure that my train-test split is the same I've used above, I've saved training and testing data to separate files. Additionaly, I created a validation set from fraction of training data."
   ]
  },
  {
   "cell_type": "code",
   "execution_count": 40,
   "metadata": {},
   "outputs": [],
   "source": [
    "X_train, X_val, y_train, y_val = train_test_split(X_train, y_train, test_size=0.2, random_state=42)\n",
    "\n",
    "train_df = pd.concat([X_train, y_train], axis=1)\n",
    "val_df = pd.concat([X_val, y_val], axis=1)\n",
    "test_df = pd.concat([X_test, y_test], axis=1)\n",
    "\n",
    "train_df.to_csv('data/train.csv', index=False)\n",
    "val_df.to_csv('data/val.csv', index=False)\n",
    "test_df.to_csv('data/test.csv', index=False)"
   ]
  },
  {
   "cell_type": "code",
   "execution_count": null,
   "metadata": {},
   "outputs": [],
   "source": []
  }
 ],
 "metadata": {
  "kernelspec": {
   "display_name": "Python 3",
   "language": "python",
   "name": "python3"
  },
  "language_info": {
   "codemirror_mode": {
    "name": "ipython",
    "version": 3
   },
   "file_extension": ".py",
   "mimetype": "text/x-python",
   "name": "python",
   "nbconvert_exporter": "python",
   "pygments_lexer": "ipython3",
   "version": "3.7.3"
  }
 },
 "nbformat": 4,
 "nbformat_minor": 2
}

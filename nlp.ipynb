{
 "cells": [
  {
   "cell_type": "code",
   "execution_count": 1,
   "metadata": {},
   "outputs": [],
   "source": [
    "import pandas as pd\n",
    "import numpy as np\n",
    "import matplotlib.pyplot as plt\n",
    "\n",
    "import re\n",
    "import string\n",
    "import nltk\n",
    "from nltk import word_tokenize\n",
    "from nltk.corpus import stopwords as sw\n",
    "from nltk.corpus import wordnet as wn\n",
    "from nltk import wordpunct_tokenize\n",
    "from nltk import WordNetLemmatizer\n",
    "from nltk import sent_tokenize\n",
    "from nltk import pos_tag\n",
    "from nltk.probability import FreqDist\n",
    "from wordcloud import WordCloud\n",
    "\n",
    "from sklearn.base import BaseEstimator, TransformerMixin\n",
    "from sklearn.pipeline import Pipeline\n",
    "from sklearn.linear_model import LogisticRegression\n",
    "from sklearn.metrics import accuracy_score, confusion_matrix\n",
    "from sklearn.feature_extraction.text import TfidfVectorizer\n",
    "from sklearn.model_selection import train_test_split, GridSearchCV\n",
    "from sklearn.preprocessing import StandardScaler\n",
    "from sklearn.svm import SVC\n",
    "import xgboost as xgb\n",
    "\n",
    "import warnings\n",
    "warnings.filterwarnings(\"ignore\", category=DeprecationWarning)\n",
    "warnings.filterwarnings(\"ignore\", category=FutureWarning)"
   ]
  },
  {
   "cell_type": "markdown",
   "metadata": {},
   "source": [
    "# First look at the data"
   ]
  },
  {
   "cell_type": "code",
   "execution_count": 2,
   "metadata": {},
   "outputs": [
    {
     "data": {
      "text/html": [
       "<div>\n",
       "<style scoped>\n",
       "    .dataframe tbody tr th:only-of-type {\n",
       "        vertical-align: middle;\n",
       "    }\n",
       "\n",
       "    .dataframe tbody tr th {\n",
       "        vertical-align: top;\n",
       "    }\n",
       "\n",
       "    .dataframe thead th {\n",
       "        text-align: right;\n",
       "    }\n",
       "</style>\n",
       "<table border=\"1\" class=\"dataframe\">\n",
       "  <thead>\n",
       "    <tr style=\"text-align: right;\">\n",
       "      <th></th>\n",
       "      <th>headline</th>\n",
       "      <th>is_sarcastic</th>\n",
       "    </tr>\n",
       "  </thead>\n",
       "  <tbody>\n",
       "    <tr>\n",
       "      <th>0</th>\n",
       "      <td>former versace store clerk sues over secret 'b...</td>\n",
       "      <td>0</td>\n",
       "    </tr>\n",
       "    <tr>\n",
       "      <th>1</th>\n",
       "      <td>the 'roseanne' revival catches up to our thorn...</td>\n",
       "      <td>0</td>\n",
       "    </tr>\n",
       "    <tr>\n",
       "      <th>2</th>\n",
       "      <td>mom starting to fear son's web series closest ...</td>\n",
       "      <td>1</td>\n",
       "    </tr>\n",
       "    <tr>\n",
       "      <th>3</th>\n",
       "      <td>boehner just wants wife to listen, not come up...</td>\n",
       "      <td>1</td>\n",
       "    </tr>\n",
       "    <tr>\n",
       "      <th>4</th>\n",
       "      <td>j.k. rowling wishes snape happy birthday in th...</td>\n",
       "      <td>0</td>\n",
       "    </tr>\n",
       "  </tbody>\n",
       "</table>\n",
       "</div>"
      ],
      "text/plain": [
       "                                            headline  is_sarcastic\n",
       "0  former versace store clerk sues over secret 'b...             0\n",
       "1  the 'roseanne' revival catches up to our thorn...             0\n",
       "2  mom starting to fear son's web series closest ...             1\n",
       "3  boehner just wants wife to listen, not come up...             1\n",
       "4  j.k. rowling wishes snape happy birthday in th...             0"
      ]
     },
     "execution_count": 2,
     "metadata": {},
     "output_type": "execute_result"
    }
   ],
   "source": [
    "df = pd.read_json('data/Graduate - HEADLINES dataset (2019-06).json', lines=True)\n",
    "df.head()"
   ]
  },
  {
   "cell_type": "code",
   "execution_count": 3,
   "metadata": {},
   "outputs": [
    {
     "data": {
      "text/plain": [
       "(26709, 2)"
      ]
     },
     "execution_count": 3,
     "metadata": {},
     "output_type": "execute_result"
    }
   ],
   "source": [
    "df.shape"
   ]
  },
  {
   "cell_type": "code",
   "execution_count": 4,
   "metadata": {},
   "outputs": [
    {
     "data": {
      "text/plain": [
       "headline        False\n",
       "is_sarcastic    False\n",
       "dtype: bool"
      ]
     },
     "execution_count": 4,
     "metadata": {},
     "output_type": "execute_result"
    }
   ],
   "source": [
    "df.isna().any()"
   ]
  },
  {
   "cell_type": "code",
   "execution_count": 5,
   "metadata": {},
   "outputs": [
    {
     "data": {
      "text/plain": [
       "headline        object\n",
       "is_sarcastic     int64\n",
       "dtype: object"
      ]
     },
     "execution_count": 5,
     "metadata": {},
     "output_type": "execute_result"
    }
   ],
   "source": [
    "df.dtypes"
   ]
  },
  {
   "cell_type": "code",
   "execution_count": 6,
   "metadata": {},
   "outputs": [],
   "source": [
    "df['headline'] = df['headline'].astype('string')"
   ]
  },
  {
   "cell_type": "code",
   "execution_count": 7,
   "metadata": {},
   "outputs": [
    {
     "data": {
      "text/plain": [
       "60.910591935302705"
      ]
     },
     "execution_count": 7,
     "metadata": {},
     "output_type": "execute_result"
    }
   ],
   "source": [
    "df['headline'].str.len().mean()"
   ]
  },
  {
   "cell_type": "code",
   "execution_count": 8,
   "metadata": {},
   "outputs": [
    {
     "data": {
      "text/plain": [
       "7"
      ]
     },
     "execution_count": 8,
     "metadata": {},
     "output_type": "execute_result"
    }
   ],
   "source": [
    "df['headline'].str.len().min()"
   ]
  },
  {
   "cell_type": "markdown",
   "metadata": {},
   "source": [
    "Let's take a look at the shortest headline that we have. It is not sarcastic."
   ]
  },
  {
   "cell_type": "code",
   "execution_count": 9,
   "metadata": {},
   "outputs": [
    {
     "data": {
      "text/html": [
       "<div>\n",
       "<style scoped>\n",
       "    .dataframe tbody tr th:only-of-type {\n",
       "        vertical-align: middle;\n",
       "    }\n",
       "\n",
       "    .dataframe tbody tr th {\n",
       "        vertical-align: top;\n",
       "    }\n",
       "\n",
       "    .dataframe thead th {\n",
       "        text-align: right;\n",
       "    }\n",
       "</style>\n",
       "<table border=\"1\" class=\"dataframe\">\n",
       "  <thead>\n",
       "    <tr style=\"text-align: right;\">\n",
       "      <th></th>\n",
       "      <th>headline</th>\n",
       "      <th>is_sarcastic</th>\n",
       "    </tr>\n",
       "  </thead>\n",
       "  <tbody>\n",
       "    <tr>\n",
       "      <th>20551</th>\n",
       "      <td>bye bye</td>\n",
       "      <td>0</td>\n",
       "    </tr>\n",
       "  </tbody>\n",
       "</table>\n",
       "</div>"
      ],
      "text/plain": [
       "      headline  is_sarcastic\n",
       "20551  bye bye             0"
      ]
     },
     "execution_count": 9,
     "metadata": {},
     "output_type": "execute_result"
    }
   ],
   "source": [
    "df.loc[df['headline'].str.len() == 7]"
   ]
  },
  {
   "cell_type": "code",
   "execution_count": 10,
   "metadata": {},
   "outputs": [
    {
     "data": {
      "text/plain": [
       "254"
      ]
     },
     "execution_count": 10,
     "metadata": {},
     "output_type": "execute_result"
    }
   ],
   "source": [
    "df['headline'].str.len().max()"
   ]
  },
  {
   "cell_type": "markdown",
   "metadata": {},
   "source": [
    "In the opposite, the longest one is sarcastic."
   ]
  },
  {
   "cell_type": "code",
   "execution_count": 11,
   "metadata": {},
   "outputs": [
    {
     "data": {
      "text/html": [
       "<div>\n",
       "<style scoped>\n",
       "    .dataframe tbody tr th:only-of-type {\n",
       "        vertical-align: middle;\n",
       "    }\n",
       "\n",
       "    .dataframe tbody tr th {\n",
       "        vertical-align: top;\n",
       "    }\n",
       "\n",
       "    .dataframe thead th {\n",
       "        text-align: right;\n",
       "    }\n",
       "</style>\n",
       "<table border=\"1\" class=\"dataframe\">\n",
       "  <thead>\n",
       "    <tr style=\"text-align: right;\">\n",
       "      <th></th>\n",
       "      <th>headline</th>\n",
       "      <th>is_sarcastic</th>\n",
       "    </tr>\n",
       "  </thead>\n",
       "  <tbody>\n",
       "    <tr>\n",
       "      <th>19868</th>\n",
       "      <td>maya angelou, poet, author, civil rights activ...</td>\n",
       "      <td>1</td>\n",
       "    </tr>\n",
       "  </tbody>\n",
       "</table>\n",
       "</div>"
      ],
      "text/plain": [
       "                                                headline  is_sarcastic\n",
       "19868  maya angelou, poet, author, civil rights activ...             1"
      ]
     },
     "execution_count": 11,
     "metadata": {},
     "output_type": "execute_result"
    }
   ],
   "source": [
    "df.loc[df['headline'].str.len() == 254]"
   ]
  },
  {
   "cell_type": "code",
   "execution_count": 12,
   "metadata": {},
   "outputs": [
    {
     "data": {
      "text/plain": [
       "<StringArray>\n",
       "['maya angelou, poet, author, civil rights activist, and—holy cow—tony award–nominated actress, college professor, magazine editor, streetcar conductor—really? streetcar conductor? wow—calypso singer, nightclub performer, and foreign journalist, dead at 86']\n",
       "Length: 1, dtype: string"
      ]
     },
     "execution_count": 12,
     "metadata": {},
     "output_type": "execute_result"
    }
   ],
   "source": [
    "df.loc[df['headline'].str.len() == 254, 'headline'].values"
   ]
  },
  {
   "cell_type": "markdown",
   "metadata": {},
   "source": [
    "The classes are approximately balanced"
   ]
  },
  {
   "cell_type": "code",
   "execution_count": 13,
   "metadata": {},
   "outputs": [
    {
     "data": {
      "image/png": "[encoded data removed]",
      "text/plain": [
       "<Figure size 432x288 with 1 Axes>"
      ]
     },
     "metadata": {
      "needs_background": "light"
     },
     "output_type": "display_data"
    }
   ],
   "source": [
    "df['is_sarcastic'].hist();"
   ]
  },
  {
   "cell_type": "markdown",
   "metadata": {},
   "source": [
    "# Preprocessing"
   ]
  },
  {
   "cell_type": "markdown",
   "metadata": {},
   "source": [
    "The internet is full of emoticons. Maybe it would be a good idea to leave them? Sarcastic headlines may contain more of them than non-sarcastic headlines."
   ]
  },
  {
   "cell_type": "code",
   "execution_count": 14,
   "metadata": {},
   "outputs": [
    {
     "name": "stdout",
     "output_type": "stream",
     "text": [
      "Emoticon found: ):, is its headline sarcastic? 0\n",
      "Emoticon found: ):, is its headline sarcastic? 0\n"
     ]
    }
   ],
   "source": [
    "RE_EMOTICONS = re.compile(\"(:-?\\))|(:p)|(:d+)|(:-?\\()|(:/)|(;-?\\))|(<3)|(=\\))|(\\)-?:)|(:'\\()|(8\\))\")\n",
    "\n",
    "for i in range(len(df)):\n",
    "    match = RE_EMOTICONS.search(df.loc[i, 'headline'])\n",
    "    if match is not None:\n",
    "        print(f'Emoticon found: {match[0]}, is its headline sarcastic? {df.loc[i, \"is_sarcastic\"]}')"
   ]
  },
  {
   "cell_type": "markdown",
   "metadata": {},
   "source": [
    "It turns out there is very few of them, so I will get read of them, not to make my data noisy.\n",
    "\n",
    "I will also take a look at most popular tokens that appear in the headlines"
   ]
  },
  {
   "cell_type": "code",
   "execution_count": 15,
   "metadata": {},
   "outputs": [],
   "source": [
    "tokens = []\n",
    "for i in range(len(df)):\n",
    "    tokens += word_tokenize(df.loc[i, 'headline'])"
   ]
  },
  {
   "cell_type": "code",
   "execution_count": 16,
   "metadata": {},
   "outputs": [
    {
     "data": {
      "image/png": "[encoded data removed]",
      "text/plain": [
       "<Figure size 432x288 with 1 Axes>"
      ]
     },
     "metadata": {
      "needs_background": "light"
     },
     "output_type": "display_data"
    }
   ],
   "source": [
    "freq_dist = FreqDist(tokens)\n",
    "freq_dist.plot(30)\n",
    "plt.show()"
   ]
  },
  {
   "cell_type": "markdown",
   "metadata": {},
   "source": [
    "It is not a suprise that some stop words appear in the chart, but there are also some other words, like \"Trump\" or \"man\". I will compare the results with the one I obtain after some preprocessing. \n",
    "\n",
    "In particular, I will:\n",
    "- remove punctuation, stopwords and unnecessary spaces\n",
    "- lowercase the words\n",
    "- tokenize them\n",
    "- lemmatize them based on the context in which they appear. It is achieved by tagging part of speech using WordNet, a language database that describes the language structure"
   ]
  },
  {
   "cell_type": "code",
   "execution_count": 17,
   "metadata": {},
   "outputs": [],
   "source": [
    "class Preprocessor(BaseEstimator, TransformerMixin):\n",
    "    \"\"\"Scikit-learn compatible tranformer, implementing text preprocessing using nltk.\n",
    "        Each word in the headline is tokenized and lemmatized based on its context.\n",
    "        Stop words are removed. Digits can also be removed.\n",
    "        \n",
    "        Arguments\n",
    "        ---------\n",
    "            remove_digits : bool (default=False), whenever to remove digits from text\n",
    "            join_tokens : bool (default=True), whenever to join all the tokens to single string\n",
    "    \n",
    "    \"\"\"\n",
    "    \n",
    "    def __init__(self, remove_digits=False, join_tokens=True, remove_stop_words=True):\n",
    "            self.remove_digits=remove_digits\n",
    "            self.join_tokens = join_tokens\n",
    "            self.remove_stop_words = remove_stop_words\n",
    "            self.stop_words = set(sw.words('english'))\n",
    "            self.lemmatizer = WordNetLemmatizer()\n",
    "        \n",
    "    def fit(self, X, y=None):\n",
    "        return self\n",
    "    \n",
    "    def transform(self, X):\n",
    "        return [self.tokenize(headline) for headline in X]\n",
    "    \n",
    "    def tokenize(self, headline):\n",
    "        tokens = []\n",
    "        for token, tag in pos_tag(wordpunct_tokenize(headline)):\n",
    "            token = self.normalize(token)\n",
    "            \n",
    "            if self.remove_stop_words:\n",
    "                if token in self.stop_words:\n",
    "                    continue\n",
    "                \n",
    "            if len(token) <= 1:\n",
    "                continue\n",
    "                                  \n",
    "            lemmatized = self.lemmatize(token, tag)\n",
    "            tokens.append(lemmatized)\n",
    "            \n",
    "        if self.join_tokens:\n",
    "            return ' '.join(tokens)\n",
    "        else: \n",
    "            return tokens\n",
    "        \n",
    "    def normalize(self, text):\n",
    "        if self.remove_digits:\n",
    "            text = re.sub(r'\\d+', '', text)\n",
    "        text = self.remove_punctuation(text)\n",
    "        text = text.strip().lower()\n",
    "        return text\n",
    "    \n",
    "    def remove_punctuation(self, text):\n",
    "        text = ''.join([c for c in text if c not in string.punctuation ])\n",
    "        return text\n",
    "                                  \n",
    "    def lemmatize(self, token, tag):\n",
    "        tag = {\n",
    "            'N': wn.NOUN,\n",
    "            'V': wn.VERB,\n",
    "            'R': wn.ADV,\n",
    "            'J': wn.ADJ\n",
    "        }.get(tag[0], wn.NOUN)\n",
    "\n",
    "        return self.lemmatizer.lemmatize(token, tag)\n",
    "        "
   ]
  },
  {
   "cell_type": "code",
   "execution_count": 18,
   "metadata": {},
   "outputs": [],
   "source": [
    "tokens_preprocessed = []\n",
    "preprocessor = Preprocessor(join_tokens=False)\n",
    "for i in range(len(df)):\n",
    "    preprocessed_token = preprocessor.tokenize(df.loc[i, 'headline'])\n",
    "    tokens_preprocessed += preprocessed_token"
   ]
  },
  {
   "cell_type": "markdown",
   "metadata": {},
   "source": [
    "After applying preprocessing steps I get much more meaningful results. This time \"Trump\" tops the list of most frequent words. Politics seems really popular topic of the headlines, what is not a suprise. One can find \"Obama\", \"american\", \"nation\" at the list too."
   ]
  },
  {
   "cell_type": "code",
   "execution_count": 19,
   "metadata": {},
   "outputs": [
    {
     "data": {
      "image/png": "[encoded data removed]",
      "text/plain": [
       "<Figure size 432x288 with 1 Axes>"
      ]
     },
     "metadata": {
      "needs_background": "light"
     },
     "output_type": "display_data"
    }
   ],
   "source": [
    "freq_dist_preprocessed = FreqDist(tokens_preprocessed)\n",
    "freq_dist_preprocessed.plot(30)\n",
    "plt.show()"
   ]
  },
  {
   "cell_type": "code",
   "execution_count": 20,
   "metadata": {},
   "outputs": [],
   "source": [
    "def plot_wordcloud(wordcloud):\n",
    "    fig = plt.figure(figsize=(10, 10))\n",
    "    plt.imshow(wordcloud)\n",
    "    plt.axis('off')\n",
    "    plt.show()"
   ]
  },
  {
   "cell_type": "markdown",
   "metadata": {},
   "source": [
    "What also helps us to understand the text data we are working with are wordclouds"
   ]
  },
  {
   "cell_type": "code",
   "execution_count": 21,
   "metadata": {},
   "outputs": [
    {
     "data": {
      "image/png": "[encoded data removed]",
      "text/plain": [
       "<Figure size 720x720 with 1 Axes>"
      ]
     },
     "metadata": {
      "needs_background": "light"
     },
     "output_type": "display_data"
    }
   ],
   "source": [
    "wordcloud = WordCloud().generate(' '.join(tokens_preprocessed))\n",
    "plot_wordcloud(wordcloud)"
   ]
  },
  {
   "cell_type": "markdown",
   "metadata": {},
   "source": [
    "Let's take a look at a few of the headlines itself"
   ]
  },
  {
   "cell_type": "code",
   "execution_count": 22,
   "metadata": {},
   "outputs": [
    {
     "data": {
      "text/plain": [
       "['former versace store clerk sue secret black code minority shopper',\n",
       " 'roseanne revival catch thorny political mood good bad',\n",
       " 'mom start fear son web series closest thing grandchild',\n",
       " 'boehner want wife listen come alternative debt reduction idea',\n",
       " 'rowling wish snape happy birthday magical way']"
      ]
     },
     "execution_count": 22,
     "metadata": {},
     "output_type": "execute_result"
    }
   ],
   "source": [
    "preprocessed = Preprocessor().fit_transform(df['headline'], df['is_sarcastic'])\n",
    "preprocessed[:5]"
   ]
  },
  {
   "cell_type": "markdown",
   "metadata": {},
   "source": [
    "# Classification"
   ]
  },
  {
   "cell_type": "markdown",
   "metadata": {},
   "source": [
    "For my classification model, I will try logistic regression first. It is know to perform well on simple NLP tasks. With little parameter tuning we can get a decent result."
   ]
  },
  {
   "cell_type": "code",
   "execution_count": 23,
   "metadata": {},
   "outputs": [
    {
     "name": "stdout",
     "output_type": "stream",
     "text": [
      "Logistic regression accuracy: 0.786\n"
     ]
    }
   ],
   "source": [
    "df_train_test = df.copy()\n",
    "y, X = df['is_sarcastic'], df['headline']\n",
    "X_train, X_test, y_train, y_test = train_test_split(X, y, test_size=0.3, random_state=42)\n",
    "\n",
    "model = Pipeline(steps=[\n",
    "    ('preprocessor', Preprocessor()),\n",
    "    ('tf_idf', TfidfVectorizer()),\n",
    "    ('model', LogisticRegression(random_state=42))\n",
    "])\n",
    "\n",
    "model = model.fit(X_train, y_train)\n",
    "y_pred = model.predict(X_test)\n",
    "print(f'Logistic regression accuracy: {round(accuracy_score(y_test, y_pred), 3)}')"
   ]
  },
  {
   "cell_type": "markdown",
   "metadata": {},
   "source": [
    "I've also tried how the model works with larger vocabulary, without removing stop words. It turns out they are not always only noise, our model performs better now!"
   ]
  },
  {
   "cell_type": "code",
   "execution_count": 24,
   "metadata": {},
   "outputs": [
    {
     "name": "stdout",
     "output_type": "stream",
     "text": [
      "Logistic regression without removig stop words accuracy: 0.835\n"
     ]
    }
   ],
   "source": [
    "model = Pipeline(steps=[\n",
    "    ('preprocessor', Preprocessor(remove_stop_words=False)),\n",
    "    ('tf_idf', TfidfVectorizer()),\n",
    "    ('model', LogisticRegression(random_state=42))\n",
    "])\n",
    "\n",
    "model = model.fit(X_train, y_train)\n",
    "y_pred = model.predict(X_test)\n",
    "accuracy_score(y_test, y_pred)\n",
    "print(f'Logistic regression without removig stop words accuracy: {round(accuracy_score(y_test, y_pred), 3)}')"
   ]
  },
  {
   "cell_type": "markdown",
   "metadata": {},
   "source": [
    "We can try to improve classification result by parameter tuning. I will try different values for regularization term."
   ]
  },
  {
   "cell_type": "code",
   "execution_count": 25,
   "metadata": {},
   "outputs": [
    {
     "name": "stdout",
     "output_type": "stream",
     "text": [
      "Best CV score: 0.8253637141634574\n",
      "Fine-tuned logistic regression accuracy: 0.838\n"
     ]
    }
   ],
   "source": [
    "logistic = LogisticRegression(random_state=42)\n",
    "\n",
    "pipeline = Pipeline(steps=[\n",
    "    ('preprocessor', Preprocessor(remove_stop_words=False)),\n",
    "    ('tf_idf', TfidfVectorizer()),\n",
    "    ('logistic', logistic)\n",
    "])\n",
    "\n",
    "params = {\n",
    "    'logistic__C': [0.1, 0.2, 0.5, 1.0, 2.0]\n",
    "}\n",
    "\n",
    "search = GridSearchCV(pipeline, param_grid=params)\n",
    "search = search.fit(X_train, y_train)\n",
    "print(f'Best CV score: {search.best_score_}')\n",
    "\n",
    "y_pred = search.predict(X_test)\n",
    "print(f'Fine-tuned logistic regression accuracy: {round(accuracy_score(y_test, y_pred), 3)}')"
   ]
  },
  {
   "cell_type": "markdown",
   "metadata": {},
   "source": [
    "We achieved slightly better result using less regularization. The results in the table clearly indicates that the less regularization, the betted the model performed."
   ]
  },
  {
   "cell_type": "code",
   "execution_count": 26,
   "metadata": {},
   "outputs": [
    {
     "data": {
      "text/html": [
       "<div>\n",
       "<style scoped>\n",
       "    .dataframe tbody tr th:only-of-type {\n",
       "        vertical-align: middle;\n",
       "    }\n",
       "\n",
       "    .dataframe tbody tr th {\n",
       "        vertical-align: top;\n",
       "    }\n",
       "\n",
       "    .dataframe thead th {\n",
       "        text-align: right;\n",
       "    }\n",
       "</style>\n",
       "<table border=\"1\" class=\"dataframe\">\n",
       "  <thead>\n",
       "    <tr style=\"text-align: right;\">\n",
       "      <th></th>\n",
       "      <th>mean_fit_time</th>\n",
       "      <th>std_fit_time</th>\n",
       "      <th>mean_score_time</th>\n",
       "      <th>std_score_time</th>\n",
       "      <th>param_logistic__C</th>\n",
       "      <th>params</th>\n",
       "      <th>split0_test_score</th>\n",
       "      <th>split1_test_score</th>\n",
       "      <th>split2_test_score</th>\n",
       "      <th>mean_test_score</th>\n",
       "      <th>std_test_score</th>\n",
       "      <th>rank_test_score</th>\n",
       "    </tr>\n",
       "  </thead>\n",
       "  <tbody>\n",
       "    <tr>\n",
       "      <th>0</th>\n",
       "      <td>10.219396</td>\n",
       "      <td>0.048036</td>\n",
       "      <td>5.186730</td>\n",
       "      <td>0.039849</td>\n",
       "      <td>0.1</td>\n",
       "      <td>{'logistic__C': 0.1}</td>\n",
       "      <td>0.789507</td>\n",
       "      <td>0.778562</td>\n",
       "      <td>0.786712</td>\n",
       "      <td>0.784927</td>\n",
       "      <td>0.004643</td>\n",
       "      <td>5</td>\n",
       "    </tr>\n",
       "    <tr>\n",
       "      <th>1</th>\n",
       "      <td>10.221158</td>\n",
       "      <td>0.054749</td>\n",
       "      <td>5.163919</td>\n",
       "      <td>0.008560</td>\n",
       "      <td>0.2</td>\n",
       "      <td>{'logistic__C': 0.2}</td>\n",
       "      <td>0.811648</td>\n",
       "      <td>0.794769</td>\n",
       "      <td>0.801476</td>\n",
       "      <td>0.802632</td>\n",
       "      <td>0.006939</td>\n",
       "      <td>4</td>\n",
       "    </tr>\n",
       "    <tr>\n",
       "      <th>2</th>\n",
       "      <td>10.325958</td>\n",
       "      <td>0.135681</td>\n",
       "      <td>5.502717</td>\n",
       "      <td>0.573040</td>\n",
       "      <td>0.5</td>\n",
       "      <td>{'logistic__C': 0.5}</td>\n",
       "      <td>0.822236</td>\n",
       "      <td>0.807445</td>\n",
       "      <td>0.817686</td>\n",
       "      <td>0.815789</td>\n",
       "      <td>0.006186</td>\n",
       "      <td>3</td>\n",
       "    </tr>\n",
       "    <tr>\n",
       "      <th>3</th>\n",
       "      <td>11.199099</td>\n",
       "      <td>1.197566</td>\n",
       "      <td>5.583771</td>\n",
       "      <td>0.632789</td>\n",
       "      <td>1</td>\n",
       "      <td>{'logistic__C': 1.0}</td>\n",
       "      <td>0.828814</td>\n",
       "      <td>0.815469</td>\n",
       "      <td>0.822821</td>\n",
       "      <td>0.822368</td>\n",
       "      <td>0.005458</td>\n",
       "      <td>2</td>\n",
       "    </tr>\n",
       "    <tr>\n",
       "      <th>4</th>\n",
       "      <td>12.304077</td>\n",
       "      <td>1.595072</td>\n",
       "      <td>5.687846</td>\n",
       "      <td>0.334626</td>\n",
       "      <td>2</td>\n",
       "      <td>{'logistic__C': 2.0}</td>\n",
       "      <td>0.832504</td>\n",
       "      <td>0.819320</td>\n",
       "      <td>0.824266</td>\n",
       "      <td>0.825364</td>\n",
       "      <td>0.005439</td>\n",
       "      <td>1</td>\n",
       "    </tr>\n",
       "  </tbody>\n",
       "</table>\n",
       "</div>"
      ],
      "text/plain": [
       "   mean_fit_time  std_fit_time  mean_score_time  std_score_time  \\\n",
       "0      10.219396      0.048036         5.186730        0.039849   \n",
       "1      10.221158      0.054749         5.163919        0.008560   \n",
       "2      10.325958      0.135681         5.502717        0.573040   \n",
       "3      11.199099      1.197566         5.583771        0.632789   \n",
       "4      12.304077      1.595072         5.687846        0.334626   \n",
       "\n",
       "  param_logistic__C                params  split0_test_score  \\\n",
       "0               0.1  {'logistic__C': 0.1}           0.789507   \n",
       "1               0.2  {'logistic__C': 0.2}           0.811648   \n",
       "2               0.5  {'logistic__C': 0.5}           0.822236   \n",
       "3                 1  {'logistic__C': 1.0}           0.828814   \n",
       "4                 2  {'logistic__C': 2.0}           0.832504   \n",
       "\n",
       "   split1_test_score  split2_test_score  mean_test_score  std_test_score  \\\n",
       "0           0.778562           0.786712         0.784927        0.004643   \n",
       "1           0.794769           0.801476         0.802632        0.006939   \n",
       "2           0.807445           0.817686         0.815789        0.006186   \n",
       "3           0.815469           0.822821         0.822368        0.005458   \n",
       "4           0.819320           0.824266         0.825364        0.005439   \n",
       "\n",
       "   rank_test_score  \n",
       "0                5  \n",
       "1                4  \n",
       "2                3  \n",
       "3                2  \n",
       "4                1  "
      ]
     },
     "execution_count": 26,
     "metadata": {},
     "output_type": "execute_result"
    }
   ],
   "source": [
    "pd.DataFrame(search.cv_results_)"
   ]
  },
  {
   "cell_type": "markdown",
   "metadata": {},
   "source": [
    "We can check which words got the biggest coefficients"
   ]
  },
  {
   "cell_type": "code",
   "execution_count": 27,
   "metadata": {},
   "outputs": [
    {
     "data": {
      "text/html": [
       "<div>\n",
       "<style scoped>\n",
       "    .dataframe tbody tr th:only-of-type {\n",
       "        vertical-align: middle;\n",
       "    }\n",
       "\n",
       "    .dataframe tbody tr th {\n",
       "        vertical-align: top;\n",
       "    }\n",
       "\n",
       "    .dataframe thead th {\n",
       "        text-align: right;\n",
       "    }\n",
       "</style>\n",
       "<table border=\"1\" class=\"dataframe\">\n",
       "  <thead>\n",
       "    <tr style=\"text-align: right;\">\n",
       "      <th></th>\n",
       "      <th>area</th>\n",
       "      <th>nation</th>\n",
       "      <th>man</th>\n",
       "      <th>report</th>\n",
       "      <th>fuck</th>\n",
       "      <th>local</th>\n",
       "      <th>of</th>\n",
       "      <th>study</th>\n",
       "      <th>only</th>\n",
       "      <th>shit</th>\n",
       "      <th>...</th>\n",
       "      <th>my</th>\n",
       "      <th>donald</th>\n",
       "      <th>be</th>\n",
       "      <th>how</th>\n",
       "      <th>why</th>\n",
       "      <th>an</th>\n",
       "      <th>your</th>\n",
       "      <th>trump</th>\n",
       "      <th>and</th>\n",
       "      <th>the</th>\n",
       "    </tr>\n",
       "  </thead>\n",
       "  <tbody>\n",
       "    <tr>\n",
       "      <th>coefficient</th>\n",
       "      <td>7.748933</td>\n",
       "      <td>7.719762</td>\n",
       "      <td>5.722104</td>\n",
       "      <td>5.233366</td>\n",
       "      <td>4.645262</td>\n",
       "      <td>4.294474</td>\n",
       "      <td>4.256654</td>\n",
       "      <td>4.037606</td>\n",
       "      <td>3.838484</td>\n",
       "      <td>3.819766</td>\n",
       "      <td>...</td>\n",
       "      <td>-4.420514</td>\n",
       "      <td>-4.767089</td>\n",
       "      <td>-5.105228</td>\n",
       "      <td>-5.11792</td>\n",
       "      <td>-5.184436</td>\n",
       "      <td>-5.199974</td>\n",
       "      <td>-5.693388</td>\n",
       "      <td>-6.769366</td>\n",
       "      <td>-7.635494</td>\n",
       "      <td>-11.624092</td>\n",
       "    </tr>\n",
       "  </tbody>\n",
       "</table>\n",
       "<p>1 rows × 17368 columns</p>\n",
       "</div>"
      ],
      "text/plain": [
       "                 area    nation       man    report      fuck     local  \\\n",
       "coefficient  7.748933  7.719762  5.722104  5.233366  4.645262  4.294474   \n",
       "\n",
       "                   of     study      only      shit  ...        my    donald  \\\n",
       "coefficient  4.256654  4.037606  3.838484  3.819766  ... -4.420514 -4.767089   \n",
       "\n",
       "                   be      how       why        an      your     trump  \\\n",
       "coefficient -5.105228 -5.11792 -5.184436 -5.199974 -5.693388 -6.769366   \n",
       "\n",
       "                  and        the  \n",
       "coefficient -7.635494 -11.624092  \n",
       "\n",
       "[1 rows x 17368 columns]"
      ]
     },
     "execution_count": 27,
     "metadata": {},
     "output_type": "execute_result"
    }
   ],
   "source": [
    "pd.DataFrame(search.best_estimator_['logistic'].coef_[0], \n",
    "             columns=['coefficient'],\n",
    "             index=search.best_estimator_['tf_idf'].get_feature_names()).sort_values(by='coefficient', ascending=False).T"
   ]
  },
  {
   "cell_type": "markdown",
   "metadata": {},
   "source": [
    "I've also tried removing digits in the headlines, but it doesn't have much effect on classification."
   ]
  },
  {
   "cell_type": "code",
   "execution_count": 29,
   "metadata": {},
   "outputs": [
    {
     "name": "stdout",
     "output_type": "stream",
     "text": [
      "Logistic regression accuracy with no stop words and no digits: 0.837\n"
     ]
    }
   ],
   "source": [
    "model = Pipeline(steps=[\n",
    "    ('preprocessor', Preprocessor(remove_stop_words=False, remove_digits=True)),\n",
    "    ('tf_idf', TfidfVectorizer()),\n",
    "    ('model', LogisticRegression(C=2, random_state=42))\n",
    "])\n",
    "\n",
    "model = model.fit(X_train, y_train)\n",
    "y_pred = model.predict(X_test)\n",
    "print(f'Logistic regression accuracy with no stop words and no digits: {round(accuracy_score(y_test, y_pred), 3)}')"
   ]
  },
  {
   "cell_type": "markdown",
   "metadata": {},
   "source": [
    "I've also tried some other models: SVM and XGboost, but they give worse results."
   ]
  },
  {
   "cell_type": "code",
   "execution_count": 30,
   "metadata": {},
   "outputs": [
    {
     "name": "stdout",
     "output_type": "stream",
     "text": [
      "SVM accuracy: 0.555\n"
     ]
    }
   ],
   "source": [
    "svm_pipeline = Pipeline(steps=[\n",
    "    ('preprocessor', Preprocessor(remove_stop_words=False)),\n",
    "    ('tf_idf', TfidfVectorizer()),\n",
    "    ('svm', SVC(random_state=42))\n",
    "])\n",
    "\n",
    "params = {\n",
    "    'svm__C': [0.1, 0.2, 0.5, 1.0, 1.5, 2.0]\n",
    "}\n",
    "\n",
    "svm_search = GridSearchCV(svm_pipeline, param_grid=params)\n",
    "\n",
    "svm_classifier = svm_search.fit(X_train, y_train)\n",
    "svm_pred = svm_classifier.predict(X_test)\n",
    "print(f'SVM accuracy: {round(accuracy_score(y_test, svm_pred), 3)}')"
   ]
  },
  {
   "cell_type": "code",
   "execution_count": 31,
   "metadata": {},
   "outputs": [
    {
     "name": "stdout",
     "output_type": "stream",
     "text": [
      "XGBoost accuracy: 0.774\n"
     ]
    }
   ],
   "source": [
    "xgb_pipeline = Pipeline(steps=[\n",
    "    ('preprocessor', Preprocessor(remove_stop_words=False)),\n",
    "    ('tf_idf', TfidfVectorizer()),\n",
    "    ('xgb', xgb.XGBClassifier(random_state=4))\n",
    "])\n",
    "\n",
    "params = {\n",
    "    'xgb__max_depth': [3, 5, 7]\n",
    "}\n",
    "\n",
    "xgb_search = GridSearchCV(xgb_pipeline, param_grid=params)\n",
    "\n",
    "xgb_classifier = xgb_search.fit(X_train, y_train)\n",
    "xgb_pred = xgb_classifier.predict(X_test)\n",
    "print(f'XGBoost accuracy: {round(accuracy_score(y_test, xgb_pred), 3)}')"
   ]
  },
  {
   "cell_type": "code",
   "execution_count": null,
   "metadata": {},
   "outputs": [],
   "source": []
  }
 ],
 "metadata": {
  "kernelspec": {
   "display_name": "Python 3",
   "language": "python",
   "name": "python3"
  },
  "language_info": {
   "codemirror_mode": {
    "name": "ipython",
    "version": 3
   },
   "file_extension": ".py",
   "mimetype": "text/x-python",
   "name": "python",
   "nbconvert_exporter": "python",
   "pygments_lexer": "ipython3",
   "version": "3.7.3"
  }
 },
 "nbformat": 4,
 "nbformat_minor": 2
}
